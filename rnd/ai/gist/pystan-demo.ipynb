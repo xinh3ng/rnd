{
 "cells": [
  {
   "cell_type": "code",
   "execution_count": 1,
   "metadata": {},
   "outputs": [],
   "source": [
    "\"\"\"\n",
    "pystan introduction: https://towardsdatascience.com/painless-introduction-to-applied-bayesian-inference-using-py-stan-36b503a4cd80\n",
    "\n",
    "\"\"\"\n",
    "import pystan\n",
    "import pickle\n",
    "import numpy as np\n",
    "import arviz as az\n",
    "import pandas as pd\n",
    "import seaborn as sns\n",
    "import statsmodels.api as statmod\n",
    "import matplotlib.pyplot as plt\n",
    "from IPython.display import Image\n",
    "from IPython.core.display import HTML"
   ]
  },
  {
   "cell_type": "code",
   "execution_count": 2,
   "metadata": {},
   "outputs": [
    {
     "name": "stderr",
     "output_type": "stream",
     "text": [
      "/Users/xheng/Applications/miniconda3/envs/py3.7.4/lib/python3.7/site-packages/seaborn/distributions.py:218: MatplotlibDeprecationWarning: \n",
      "The 'normed' kwarg was deprecated in Matplotlib 2.1 and will be removed in 3.1. Use 'density' instead.\n",
      "  color=hist_color, **hist_kws)\n"
     ]
    },
    {
     "data": {
      "text/plain": [
       "<matplotlib.axes._subplots.AxesSubplot at 0x7f8e2dc7f510>"
      ]
     },
     "execution_count": 2,
     "metadata": {},
     "output_type": "execute_result"
    },
    {
     "data": {
      "image/png": "[encoded data removed]",
      "text/plain": [
       "<Figure size 432x288 with 1 Axes>"
      ]
     },
     "metadata": {
      "needs_background": "light"
     },
     "output_type": "display_data"
    }
   ],
   "source": [
    "sns.distplot(np.random.beta(5, 5, size=10000), kde=False)"
   ]
  },
  {
   "cell_type": "code",
   "execution_count": 3,
   "metadata": {},
   "outputs": [
    {
     "name": "stderr",
     "output_type": "stream",
     "text": [
      "INFO:pystan:COMPILING THE C++ CODE FOR MODEL anon_model_d3835c4370ff5e66f1e88bd3eac647ff NOW.\n"
     ]
    },
    {
     "name": "stdout",
     "output_type": "stream",
     "text": [
      "Inference for Stan model: anon_model_d3835c4370ff5e66f1e88bd3eac647ff.\n",
      "4 chains, each with iter=4000; warmup=1000; thin=1; \n",
      "post-warmup draws per chain=3000, total post-warmup draws=12000.\n",
      "\n",
      "        mean se_mean     sd   2.5%    25%    50%    75%  97.5%  n_eff   Rhat\n",
      "theta   0.36  1.8e-3   0.12   0.14   0.27   0.35   0.43   0.61   4317    1.0\n",
      "lp__   -9.62  9.1e-3   0.69 -11.58  -9.79  -9.35  -9.18  -9.13   5745    1.0\n",
      "\n",
      "Samples were drawn using NUTS at Wed Feb  3 20:20:20 2021.\n",
      "For each parameter, n_eff is a crude measure of effective sample size,\n",
      "and Rhat is the potential scale reduction factor on split chains (at \n",
      "convergence, Rhat=1).\n"
     ]
    }
   ],
   "source": [
    "# Bernoulli model\n",
    "model_code = \"\"\"\n",
    "    data {\n",
    "      int<lower=0> N;\n",
    "      int<lower=0,upper=1> y[N];\n",
    "    }\n",
    "    parameters {\n",
    "      real<lower=0,upper=1> theta;\n",
    "    }\n",
    "    model {\n",
    "      theta ~ beta(5, 5);\n",
    "      for (n in 1:N)\n",
    "          y[n] ~ bernoulli(theta);\n",
    "    }\n",
    "    \"\"\"\n",
    "\n",
    "data = dict(N=4, y=[0, 0, 0, 0])\n",
    "model = pystan.StanModel(model_code=model_code)\n",
    "fit = model.sampling(data=data, iter=4000, chains=4, warmup=1000)\n",
    "la = fit.extract(permuted=True)  # return a dictionary of arrays\n",
    "print(fit.stansummary())"
   ]
  },
  {
   "cell_type": "code",
   "execution_count": null,
   "metadata": {},
   "outputs": [],
   "source": []
  }
 ],
 "metadata": {
  "kernelspec": {
   "display_name": "Python 3",
   "language": "python",
   "name": "python3"
  },
  "language_info": {
   "codemirror_mode": {
    "name": "ipython",
    "version": 3
   },
   "file_extension": ".py",
   "mimetype": "text/x-python",
   "name": "python",
   "nbconvert_exporter": "python",
   "pygments_lexer": "ipython3",
   "version": "3.7.9"
  }
 },
 "nbformat": 4,
 "nbformat_minor": 4
}
