{
 "nbformat": 4,
 "nbformat_minor": 0,
 "metadata": {
  "colab": {
   "name": "ts_forecast_seq2seq.ipynb",
   "provenance": [
    {
     "file_id": "1b1BCvhnPeHSzWxvlCspVzAKmPC4OTGI5",
     "timestamp": 1594533544666
    },
    {
     "file_id": "1DLZSA_B9_tgwEeBMUW_B10EBi9tvnCFF",
     "timestamp": 1593824930085
    }
   ],
   "collapsed_sections": []
  },
  "kernelspec": {
   "name": "python3",
   "display_name": "Python 3"
  },
  "accelerator": "GPU",
  "widgets": {
   "application/vnd.jupyter.widget-state+json": {
    "ba4aeb5aecba4c9c88183215cb18c381": {
     "model_module": "@jupyter-widgets/controls",
     "model_name": "HBoxModel",
     "state": {
      "_view_name": "HBoxView",
      "_dom_classes": [],
      "_model_name": "HBoxModel",
      "_view_module": "@jupyter-widgets/controls",
      "_model_module_version": "1.5.0",
      "_view_count": null,
      "_view_module_version": "1.5.0",
      "box_style": "",
      "layout": "IPY_MODEL_1cac50cca96b404db407a2821895dde1",
      "_model_module": "@jupyter-widgets/controls",
      "children": [
       "IPY_MODEL_ff4b04ae4dd844668a3462acabef2046",
       "IPY_MODEL_4493a20ee0e046408b3ea78b3215d3a8"
      ]
     }
    },
    "1cac50cca96b404db407a2821895dde1": {
     "model_module": "@jupyter-widgets/base",
     "model_name": "LayoutModel",
     "state": {
      "_view_name": "LayoutView",
      "grid_template_rows": null,
      "right": null,
      "justify_content": null,
      "_view_module": "@jupyter-widgets/base",
      "overflow": null,
      "_model_module_version": "1.2.0",
      "_view_count": null,
      "flex_flow": null,
      "width": null,
      "min_width": null,
      "border": null,
      "align_items": null,
      "bottom": null,
      "_model_module": "@jupyter-widgets/base",
      "top": null,
      "grid_column": null,
      "overflow_y": null,
      "overflow_x": null,
      "grid_auto_flow": null,
      "grid_area": null,
      "grid_template_columns": null,
      "flex": null,
      "_model_name": "LayoutModel",
      "justify_items": null,
      "grid_row": null,
      "max_height": null,
      "align_content": null,
      "visibility": null,
      "align_self": null,
      "height": null,
      "min_height": null,
      "padding": null,
      "grid_auto_rows": null,
      "grid_gap": null,
      "max_width": null,
      "order": null,
      "_view_module_version": "1.2.0",
      "grid_template_areas": null,
      "object_position": null,
      "object_fit": null,
      "grid_auto_columns": null,
      "margin": null,
      "display": null,
      "left": null
     }
    },
    "ff4b04ae4dd844668a3462acabef2046": {
     "model_module": "@jupyter-widgets/controls",
     "model_name": "FloatProgressModel",
     "state": {
      "_view_name": "ProgressView",
      "style": "IPY_MODEL_ea209951ec7e4ee0873a5e8e1c3b0666",
      "_dom_classes": [],
      "description": "100%",
      "_model_name": "FloatProgressModel",
      "bar_style": "success",
      "max": 500,
      "_view_module": "@jupyter-widgets/controls",
      "_model_module_version": "1.5.0",
      "value": 500,
      "_view_count": null,
      "_view_module_version": "1.5.0",
      "orientation": "horizontal",
      "min": 0,
      "description_tooltip": null,
      "_model_module": "@jupyter-widgets/controls",
      "layout": "IPY_MODEL_a963e57a2df0453687678bb2f09331ea"
     }
    },
    "4493a20ee0e046408b3ea78b3215d3a8": {
     "model_module": "@jupyter-widgets/controls",
     "model_name": "HTMLModel",
     "state": {
      "_view_name": "HTMLView",
      "style": "IPY_MODEL_9c8deb7b9ae145f988107ba748ce918d",
      "_dom_classes": [],
      "description": "",
      "_model_name": "HTMLModel",
      "placeholder": "​",
      "_view_module": "@jupyter-widgets/controls",
      "_model_module_version": "1.5.0",
      "value": " 500/500 [01:09&lt;00:00,  7.22it/s]",
      "_view_count": null,
      "_view_module_version": "1.5.0",
      "description_tooltip": null,
      "_model_module": "@jupyter-widgets/controls",
      "layout": "IPY_MODEL_809d87b00e654bcf95c6cdb9bee75deb"
     }
    },
    "ea209951ec7e4ee0873a5e8e1c3b0666": {
     "model_module": "@jupyter-widgets/controls",
     "model_name": "ProgressStyleModel",
     "state": {
      "_view_name": "StyleView",
      "_model_name": "ProgressStyleModel",
      "description_width": "initial",
      "_view_module": "@jupyter-widgets/base",
      "_model_module_version": "1.5.0",
      "_view_count": null,
      "_view_module_version": "1.2.0",
      "bar_color": null,
      "_model_module": "@jupyter-widgets/controls"
     }
    },
    "a963e57a2df0453687678bb2f09331ea": {
     "model_module": "@jupyter-widgets/base",
     "model_name": "LayoutModel",
     "state": {
      "_view_name": "LayoutView",
      "grid_template_rows": null,
      "right": null,
      "justify_content": null,
      "_view_module": "@jupyter-widgets/base",
      "overflow": null,
      "_model_module_version": "1.2.0",
      "_view_count": null,
      "flex_flow": null,
      "width": null,
      "min_width": null,
      "border": null,
      "align_items": null,
      "bottom": null,
      "_model_module": "@jupyter-widgets/base",
      "top": null,
      "grid_column": null,
      "overflow_y": null,
      "overflow_x": null,
      "grid_auto_flow": null,
      "grid_area": null,
      "grid_template_columns": null,
      "flex": null,
      "_model_name": "LayoutModel",
      "justify_items": null,
      "grid_row": null,
      "max_height": null,
      "align_content": null,
      "visibility": null,
      "align_self": null,
      "height": null,
      "min_height": null,
      "padding": null,
      "grid_auto_rows": null,
      "grid_gap": null,
      "max_width": null,
      "order": null,
      "_view_module_version": "1.2.0",
      "grid_template_areas": null,
      "object_position": null,
      "object_fit": null,
      "grid_auto_columns": null,
      "margin": null,
      "display": null,
      "left": null
     }
    },
    "9c8deb7b9ae145f988107ba748ce918d": {
     "model_module": "@jupyter-widgets/controls",
     "model_name": "DescriptionStyleModel",
     "state": {
      "_view_name": "StyleView",
      "_model_name": "DescriptionStyleModel",
      "description_width": "",
      "_view_module": "@jupyter-widgets/base",
      "_model_module_version": "1.5.0",
      "_view_count": null,
      "_view_module_version": "1.2.0",
      "_model_module": "@jupyter-widgets/controls"
     }
    },
    "809d87b00e654bcf95c6cdb9bee75deb": {
     "model_module": "@jupyter-widgets/base",
     "model_name": "LayoutModel",
     "state": {
      "_view_name": "LayoutView",
      "grid_template_rows": null,
      "right": null,
      "justify_content": null,
      "_view_module": "@jupyter-widgets/base",
      "overflow": null,
      "_model_module_version": "1.2.0",
      "_view_count": null,
      "flex_flow": null,
      "width": null,
      "min_width": null,
      "border": null,
      "align_items": null,
      "bottom": null,
      "_model_module": "@jupyter-widgets/base",
      "top": null,
      "grid_column": null,
      "overflow_y": null,
      "overflow_x": null,
      "grid_auto_flow": null,
      "grid_area": null,
      "grid_template_columns": null,
      "flex": null,
      "_model_name": "LayoutModel",
      "justify_items": null,
      "grid_row": null,
      "max_height": null,
      "align_content": null,
      "visibility": null,
      "align_self": null,
      "height": null,
      "min_height": null,
      "padding": null,
      "grid_auto_rows": null,
      "grid_gap": null,
      "max_width": null,
      "order": null,
      "_view_module_version": "1.2.0",
      "grid_template_areas": null,
      "object_position": null,
      "object_fit": null,
      "grid_auto_columns": null,
      "margin": null,
      "display": null,
      "left": null
     }
    }
   }
  }
 },
 "cells": [
  {
   "cell_type": "code",
   "metadata": {
    "id": "KoN_QwOdGyWj",
    "colab_type": "code",
    "colab": {
     "base_uri": "https://localhost:8080/",
     "height": 342
    },
    "executionInfo": {
     "status": "ok",
     "timestamp": 1594616884966,
     "user_tz": 420,
     "elapsed": 12519,
     "user": {
      "displayName": "Xin Heng",
      "photoUrl": "https://lh3.googleusercontent.com/a-/AOh14Ghih2qYah2j147oGatNY6HQBB8nFM3Wl0KUFG7X=s64",
      "userId": "10806682243950504635"
     }
    },
    "outputId": "a11e69de-e09b-41d6-e8d1-c9f8a7a41ffa"
   },
   "source": [
    "\"\"\"\n",
    "Links\n",
    "  https://github.com/gautham20/pytorch-ts/blob/master/item%20sales%20forecasting.ipynb\n",
    "  https://towardsdatascience.com/encoder-decoder-model-for-multistep-time-series-forecasting-using-pytorch-5d54c6af6e60\n",
    "  \n",
    "\"\"\"\n",
    "!pip install plotly_express\n",
    "!pip install torchcontrib"
   ],
   "execution_count": 15,
   "outputs": [
    {
     "output_type": "stream",
     "text": [
      "Requirement already satisfied: plotly_express in /usr/local/lib/python3.6/dist-packages (0.4.1)\n",
      "Requirement already satisfied: statsmodels>=0.9.0 in /usr/local/lib/python3.6/dist-packages (from plotly_express) (0.10.2)\n",
      "Requirement already satisfied: scipy>=0.18 in /usr/local/lib/python3.6/dist-packages (from plotly_express) (1.4.1)\n",
      "Requirement already satisfied: numpy>=1.11 in /usr/local/lib/python3.6/dist-packages (from plotly_express) (1.18.5)\n",
      "Requirement already satisfied: patsy>=0.5 in /usr/local/lib/python3.6/dist-packages (from plotly_express) (0.5.1)\n",
      "Requirement already satisfied: pandas>=0.20.0 in /usr/local/lib/python3.6/dist-packages (from plotly_express) (1.0.5)\n",
      "Requirement already satisfied: plotly>=4.1.0 in /usr/local/lib/python3.6/dist-packages (from plotly_express) (4.4.1)\n",
      "Requirement already satisfied: six in /usr/local/lib/python3.6/dist-packages (from patsy>=0.5->plotly_express) (1.12.0)\n",
      "Requirement already satisfied: pytz>=2017.2 in /usr/local/lib/python3.6/dist-packages (from pandas>=0.20.0->plotly_express) (2018.9)\n",
      "Requirement already satisfied: python-dateutil>=2.6.1 in /usr/local/lib/python3.6/dist-packages (from pandas>=0.20.0->plotly_express) (2.8.1)\n",
      "Requirement already satisfied: retrying>=1.3.3 in /usr/local/lib/python3.6/dist-packages (from plotly>=4.1.0->plotly_express) (1.3.3)\n",
      "Collecting torchcontrib\n",
      "  Downloading https://files.pythonhosted.org/packages/72/36/45d475035ab35353911e72a03c1c1210eba63b71e5a6917a9e78a046aa10/torchcontrib-0.0.2.tar.gz\n",
      "Building wheels for collected packages: torchcontrib\n",
      "  Building wheel for torchcontrib (setup.py) ... \u001b[?25l\u001b[?25hdone\n",
      "  Created wheel for torchcontrib: filename=torchcontrib-0.0.2-cp36-none-any.whl size=7533 sha256=55165f822fb77c8e0cddd9031ac3cd6364e49ea55d0ce74b74d59acfff09b687\n",
      "  Stored in directory: /root/.cache/pip/wheels/06/06/7b/a5f5920bbf4f12a2c927e438fac17d4cd9560f8336b00e9a99\n",
      "Successfully built torchcontrib\n",
      "Installing collected packages: torchcontrib\n",
      "Successfully installed torchcontrib-0.0.2\n"
     ],
     "name": "stdout"
    }
   ]
  },
  {
   "cell_type": "code",
   "metadata": {
    "id": "jziiW-1VlXhB",
    "colab_type": "code",
    "colab": {
     "base_uri": "https://localhost:8080/",
     "height": 200
    },
    "executionInfo": {
     "status": "ok",
     "timestamp": 1594616590363,
     "user_tz": 420,
     "elapsed": 31662,
     "user": {
      "displayName": "Xin Heng",
      "photoUrl": "https://lh3.googleusercontent.com/a-/AOh14Ghih2qYah2j147oGatNY6HQBB8nFM3Wl0KUFG7X=s64",
      "userId": "10806682243950504635"
     }
    },
    "outputId": "37b7894f-1a9a-4434-d09c-000b8a841003"
   },
   "source": [
    "%load_ext autoreload\n",
    "%autoreload 2\n",
    "\n",
    "# Libraries and general settings\n",
    "from google.colab import drive\n",
    "import matplotlib\n",
    "import matplotlib.pyplot as plt\n",
    "import numpy as np\n",
    "import os\n",
    "import pandas as pd\n",
    "import pickle\n",
    "import plotly_express as px\n",
    "from tqdm.notebook import tqdm\n",
    "import warnings\n",
    "\n",
    "# ML related\n",
    "from sklearn.preprocessing import StandardScaler, MinMaxScaler\n",
    "from statsmodels.tsa.stattools import acf, pacf\n",
    "import torch\n",
    "from torch.utils.data import Dataset, DataLoader\n",
    "import torch.nn as nn\n",
    "import torch.optim as optim\n",
    "import torchcontrib\n",
    "\n",
    "from ts_models.encoders import RNNEncoder, RNNConcatEncoder, RNNInitEncoder\n",
    "from ts_models.decoders import DecoderCell, AttentionDecoderCell\n",
    "from ts_models.encoder_decoder import EncoderDecoderWrapper\n",
    "from ts_models.encoder_decoder_attention import EncoderDecoderAttentionWrapper\n",
    "\n",
    "from torch_utils.cocob import COCOBBackprop\n",
    "from torch_utils.trainer import TorchTrainer\n",
    "\n",
    "torch.manual_seed(420)\n",
    "np.random.seed(420)\n",
    "\n",
    "\n",
    "matplotlib.rcParams[\"figure.figsize\"] = (12.0, 12.0)\n",
    "pd.set_option(\"precision\", 4)\n",
    "pd.set_option(\"display.max_columns\", None)\n",
    "pd.set_option(\"max_colwidth\", None)\n",
    "warnings.filterwarnings(\"ignore\")\n",
    "tqdm.pandas()  # Add progress bar to pandas work\n",
    "\n",
    "drive.mount(\"/content/gdrive\")\n",
    "\n",
    "if torch.cuda.is_available():\n",
    "    device = torch.device(\"cuda\")\n",
    "    print(\"%d GPU(s) available, namely %s\" % (torch.cuda.device_count(), torch.cuda.get_device_name(0)))\n",
    "else:\n",
    "    device = torch.device(\"cpu\")\n",
    "    print(\"No GPU available, using CPU instead.\")\n",
    "\n",
    "\n",
    "DATA_FOLDER = \"/content/gdrive/My Drive/xheng/data/demand-forecasting\"\n",
    "\n",
    "\n",
    "mode = \"test\"  # 'valid', \"test\""
   ],
   "execution_count": 3,
   "outputs": [
    {
     "output_type": "stream",
     "text": [
      "/usr/local/lib/python3.6/dist-packages/statsmodels/tools/_testing.py:19: FutureWarning:\n",
      "\n",
      "pandas.util.testing is deprecated. Use the functions in the public API at pandas.testing instead.\n",
      "\n"
     ],
     "name": "stderr"
    },
    {
     "output_type": "stream",
     "text": [
      "Go to this URL in a browser: https://accounts.google.com/o/oauth2/auth?client_id=947318989803-6bn6qk8qdgf4n4g3pfee6491hc0brc4i.apps.googleusercontent.com&redirect_uri=urn%3aietf%3awg%3aoauth%3a2.0%3aoob&response_type=code&scope=email%20https%3a%2f%2fwww.googleapis.com%2fauth%2fdocs.test%20https%3a%2f%2fwww.googleapis.com%2fauth%2fdrive%20https%3a%2f%2fwww.googleapis.com%2fauth%2fdrive.photos.readonly%20https%3a%2f%2fwww.googleapis.com%2fauth%2fpeopleapi.readonly\n",
      "\n",
      "Enter your authorization code:\n",
      "··········\n",
      "Mounted at /content/gdrive\n",
      "1 GPU(s) available, namely Tesla K80\n"
     ],
     "name": "stdout"
    }
   ]
  },
  {
   "cell_type": "code",
   "metadata": {
    "id": "QOE2HSieI16a",
    "colab_type": "code",
    "colab": {
     "base_uri": "https://localhost:8080/",
     "height": 716
    },
    "executionInfo": {
     "status": "ok",
     "timestamp": 1594616590364,
     "user_tz": 420,
     "elapsed": 31645,
     "user": {
      "displayName": "Xin Heng",
      "photoUrl": "https://lh3.googleusercontent.com/a-/AOh14Ghih2qYah2j147oGatNY6HQBB8nFM3Wl0KUFG7X=s64",
      "userId": "10806682243950504635"
     }
    },
    "outputId": "689a10f6-8ffd-42a1-8532-3707cd8dfdc8"
   },
   "source": [
    "def sin_transform(values):\n",
    "    return np.sin(2 * np.pi * values / len(set(values)))\n",
    "\n",
    "\n",
    "def cos_transform(values):\n",
    "    return np.cos(2 * np.pi * values / len(set(values)))\n",
    "\n",
    "\n",
    "def get_yearly_autocorr(data):\n",
    "    \"\"\"Get yearly autocorrelation for each time series\"\"\"\n",
    "    ac = acf(data, nlags=366)\n",
    "    return (0.5 * ac[365]) + (0.25 * ac[364]) + (0.25 * ac[366])\n",
    "\n",
    "\n",
    "def save_scale_map(name, scale_map):\n",
    "    with open(name + \".pickle\", \"wb\") as handle:\n",
    "        pickle.dump(scale_map, handle, protocol=pickle.HIGHEST_PROTOCOL)\n",
    "\n",
    "\n",
    "plt.plot(sin_transform(np.arange(0, 12)), label=\"month_sin\")\n",
    "plt.plot(cos_transform(np.arange(0, 12)), label=\"month_cos\")\n",
    "plt.legend()"
   ],
   "execution_count": 4,
   "outputs": [
    {
     "output_type": "execute_result",
     "data": {
      "text/plain": [
       "<matplotlib.legend.Legend at 0x7fa235ff95f8>"
      ]
     },
     "metadata": {
      "tags": []
     },
     "execution_count": 4
    },
    {
     "output_type": "display_data",
     "data": {
      "image/png": "[encoded data removed]",
      "text/plain": [
       "<Figure size 864x864 with 1 Axes>"
      ]
     },
     "metadata": {
      "tags": [],
      "needs_background": "light"
     }
    }
   ]
  },
  {
   "cell_type": "code",
   "metadata": {
    "id": "3w--RSEKNqRP",
    "colab_type": "code",
    "colab": {},
    "cellView": "code",
    "executionInfo": {
     "status": "ok",
     "timestamp": 1594616590365,
     "user_tz": 420,
     "elapsed": 31632,
     "user": {
      "displayName": "Xin Heng",
      "photoUrl": "https://lh3.googleusercontent.com/a-/AOh14Ghih2qYah2j147oGatNY6HQBB8nFM3Wl0KUFG7X=s64",
      "userId": "10806682243950504635"
     }
    }
   },
   "source": [
    "# @title Default title text\n",
    "def reduce_mem_usage(df, verbose: int = 1):\n",
    "    numerics = [\"int16\", \"int32\", \"int64\", \"float16\", \"float32\", \"float64\"]\n",
    "    start_mem = df.memory_usage().sum() / 1024**2\n",
    "    for col in df.columns:\n",
    "        col_type = df[col].dtypes\n",
    "        if col_type in numerics:\n",
    "            c_min = df[col].min()\n",
    "            c_max = df[col].max()\n",
    "            if str(col_type)[:3] == \"int\":\n",
    "                if c_min > np.iinfo(np.int8).min and c_max < np.iinfo(np.int8).max:\n",
    "                    df[col] = df[col].astype(np.int8)\n",
    "                elif c_min > np.iinfo(np.int16).min and c_max < np.iinfo(np.int16).max:\n",
    "                    df[col] = df[col].astype(np.int16)\n",
    "                elif c_min > np.iinfo(np.int32).min and c_max < np.iinfo(np.int32).max:\n",
    "                    df[col] = df[col].astype(np.int32)\n",
    "                elif c_min > np.iinfo(np.int64).min and c_max < np.iinfo(np.int64).max:\n",
    "                    df[col] = df[col].astype(np.int64)\n",
    "            else:\n",
    "                if c_min > np.finfo(np.float16).min and c_max < np.finfo(np.float16).max:\n",
    "                    df[col] = df[col].astype(np.float16)\n",
    "                elif c_min > np.finfo(np.float32).min and c_max < np.finfo(np.float32).max:\n",
    "                    df[col] = df[col].astype(np.float32)\n",
    "                else:\n",
    "                    df[col] = df[col].astype(np.float64)\n",
    "    end_mem = df.memory_usage().sum() / 1024**2\n",
    "    if verbose >= 1:\n",
    "        print(\n",
    "            \"Memory usage decreased to {:5.2f} Mb ({:.1f}% reduction)\".format(\n",
    "                end_mem, 100 * (start_mem - end_mem) / start_mem\n",
    "            )\n",
    "        )\n",
    "    return df"
   ],
   "execution_count": 5,
   "outputs": []
  },
  {
   "cell_type": "code",
   "metadata": {
    "id": "-d0dkDb6FqMq",
    "colab_type": "code",
    "colab": {},
    "executionInfo": {
     "status": "ok",
     "timestamp": 1594616593822,
     "user_tz": 420,
     "elapsed": 35083,
     "user": {
      "displayName": "Xin Heng",
      "photoUrl": "https://lh3.googleusercontent.com/a-/AOh14Ghih2qYah2j147oGatNY6HQBB8nFM3Wl0KUFG7X=s64",
      "userId": "10806682243950504635"
     }
    }
   },
   "source": [
    "# Load the raw train and test data\n",
    "train = pd.read_csv(\"%s/train.csv\" % DATA_FOLDER)\n",
    "test = pd.read_csv(\"%s/test.csv\" % DATA_FOLDER)\n",
    "\n",
    "train[\"date\"] = pd.to_datetime(train[\"date\"])\n",
    "test[\"date\"] = pd.to_datetime(test[\"date\"])"
   ],
   "execution_count": 6,
   "outputs": []
  },
  {
   "cell_type": "code",
   "metadata": {
    "id": "kBjfPmXEsJJ1",
    "colab_type": "code",
    "colab": {
     "base_uri": "https://localhost:8080/",
     "height": 732
    },
    "executionInfo": {
     "status": "ok",
     "timestamp": 1594616593823,
     "user_tz": 420,
     "elapsed": 35077,
     "user": {
      "displayName": "Xin Heng",
      "photoUrl": "https://lh3.googleusercontent.com/a-/AOh14Ghih2qYah2j147oGatNY6HQBB8nFM3Wl0KUFG7X=s64",
      "userId": "10806682243950504635"
     }
    },
    "outputId": "f84c6410-fced-4424-e7a1-e0245c3c6959"
   },
   "source": [
    "print(\"\\ntrain.describe():\\n\", train.describe())\n",
    "print(\"\\ntrain.head():\\n\", train.head())\n",
    "print(\"\\n################################\")\n",
    "\n",
    "print(\"\\ntest.describe():\\n\", test.describe())\n",
    "print(\"\\ntest.head():\\n\", test.head())\n",
    "\n",
    "print(\"\\nmin and max of train's date range:\", train[\"date\"].min(), train[\"date\"].max())\n",
    "print(\"\\nmin and max of test's date range:\", test[\"date\"].min(), test[\"date\"].max())"
   ],
   "execution_count": 7,
   "outputs": [
    {
     "output_type": "stream",
     "text": [
      "\n",
      "train.describe():\n",
      "              store         item        sales\n",
      "count  913000.0000  913000.0000  913000.0000\n",
      "mean        5.5000      25.5000      52.2503\n",
      "std         2.8723      14.4309      28.8011\n",
      "min         1.0000       1.0000       0.0000\n",
      "25%         3.0000      13.0000      30.0000\n",
      "50%         5.5000      25.5000      47.0000\n",
      "75%         8.0000      38.0000      70.0000\n",
      "max        10.0000      50.0000     231.0000\n",
      "\n",
      "train.head():\n",
      "         date  store  item  sales\n",
      "0 2013-01-01      1     1     13\n",
      "1 2013-01-02      1     1     11\n",
      "2 2013-01-03      1     1     14\n",
      "3 2013-01-04      1     1     13\n",
      "4 2013-01-05      1     1     10\n",
      "\n",
      "################################\n",
      "\n",
      "test.describe():\n",
      "                id       store       item\n",
      "count  45000.0000  45000.0000  45000.000\n",
      "mean   22499.5000      5.5000     25.500\n",
      "std    12990.5254      2.8723     14.431\n",
      "min        0.0000      1.0000      1.000\n",
      "25%    11249.7500      3.0000     13.000\n",
      "50%    22499.5000      5.5000     25.500\n",
      "75%    33749.2500      8.0000     38.000\n",
      "max    44999.0000     10.0000     50.000\n",
      "\n",
      "test.head():\n",
      "    id       date  store  item\n",
      "0   0 2018-01-01      1     1\n",
      "1   1 2018-01-02      1     1\n",
      "2   2 2018-01-03      1     1\n",
      "3   3 2018-01-04      1     1\n",
      "4   4 2018-01-05      1     1\n",
      "\n",
      "min and max of train's date range: 2013-01-01 00:00:00 2017-12-31 00:00:00\n",
      "\n",
      "min and max of test's date range: 2018-01-01 00:00:00 2018-03-31 00:00:00\n"
     ],
     "name": "stdout"
    }
   ]
  },
  {
   "cell_type": "code",
   "metadata": {
    "id": "3ONJNFlXu_xG",
    "colab_type": "code",
    "colab": {
     "base_uri": "https://localhost:8080/",
     "height": 326
    },
    "executionInfo": {
     "status": "ok",
     "timestamp": 1594616596707,
     "user_tz": 420,
     "elapsed": 37949,
     "user": {
      "displayName": "Xin Heng",
      "photoUrl": "https://lh3.googleusercontent.com/a-/AOh14Ghih2qYah2j147oGatNY6HQBB8nFM3Wl0KUFG7X=s64",
      "userId": "10806682243950504635"
     }
    },
    "outputId": "63612cf3-f059-4228-d35c-c5c91f01688b"
   },
   "source": [
    "test[\"sales\"] = np.nan  # Add the sales column\n",
    "data = pd.concat([train, test], ignore_index=True)\n",
    "data[\"store_item_id\"] = data[\"store\"].astype(str) + \"_\" + data[\"item\"].astype(str)\n",
    "data.drop(\"id\", axis=1, inplace=True)\n",
    "data.sort_values([\"store_item_id\", \"date\"], inplace=True)\n",
    "print(\"\\ndata.decribe():\\n\", data.describe())\n",
    "print(\"\\ndata.head():\\n\", data.head())\n",
    "\n",
    "# Add data time related features\n",
    "# They are not considered as look-ahead bias\n",
    "data[\"dayofweek\"] = data[\"date\"].dt.dayofweek\n",
    "data[\"month\"] = data[\"date\"].dt.month\n",
    "data[\"year\"] = data[\"date\"].dt.year\n",
    "data[\"day\"] = data[\"date\"].dt.day\n",
    "data[\"year_mod\"] = (data[\"year\"] - data[\"year\"].min()) / (data[\"year\"].max() - data[\"year\"].min())\n",
    "\n",
    "# Add sin and cos\n",
    "data[\"dayofweek_sin\"] = sin_transform(data[\"dayofweek\"])\n",
    "data[\"dayofweek_cos\"] = cos_transform(data[\"dayofweek\"])\n",
    "data[\"month_sin\"] = sin_transform(data[\"month\"])\n",
    "data[\"month_cos\"] = cos_transform(data[\"month\"])\n",
    "data[\"day_sin\"] = sin_transform(data[\"day\"])\n",
    "data[\"day_cos\"] = cos_transform(data[\"day\"])"
   ],
   "execution_count": 8,
   "outputs": [
    {
     "output_type": "stream",
     "text": [
      "\n",
      "data.decribe():\n",
      "              store         item        sales\n",
      "count  958000.0000  958000.0000  913000.0000\n",
      "mean        5.5000      25.5000      52.2503\n",
      "std         2.8723      14.4309      28.8011\n",
      "min         1.0000       1.0000       0.0000\n",
      "25%         3.0000      13.0000      30.0000\n",
      "50%         5.5000      25.5000      47.0000\n",
      "75%         8.0000      38.0000      70.0000\n",
      "max        10.0000      50.0000     231.0000\n",
      "\n",
      "data.head():\n",
      "             date  store  item  sales store_item_id\n",
      "16434 2013-01-01     10     1   14.0          10_1\n",
      "16435 2013-01-02     10     1   14.0          10_1\n",
      "16436 2013-01-03     10     1   16.0          10_1\n",
      "16437 2013-01-04     10     1   17.0          10_1\n",
      "16438 2013-01-05     10     1   12.0          10_1\n"
     ],
     "name": "stdout"
    }
   ]
  },
  {
   "cell_type": "code",
   "metadata": {
    "id": "ZIaG9dPQyBPV",
    "colab_type": "code",
    "colab": {
     "base_uri": "https://localhost:8080/",
     "height": 1000,
     "referenced_widgets": [
      "ba4aeb5aecba4c9c88183215cb18c381",
      "1cac50cca96b404db407a2821895dde1",
      "ff4b04ae4dd844668a3462acabef2046",
      "4493a20ee0e046408b3ea78b3215d3a8",
      "ea209951ec7e4ee0873a5e8e1c3b0666",
      "a963e57a2df0453687678bb2f09331ea",
      "9c8deb7b9ae145f988107ba748ce918d",
      "809d87b00e654bcf95c6cdb9bee75deb"
     ]
    },
    "executionInfo": {
     "status": "ok",
     "timestamp": 1594616667936,
     "user_tz": 420,
     "elapsed": 109165,
     "user": {
      "displayName": "Xin Heng",
      "photoUrl": "https://lh3.googleusercontent.com/a-/AOh14Ghih2qYah2j147oGatNY6HQBB8nFM3Wl0KUFG7X=s64",
      "userId": "10806682243950504635"
     }
    },
    "outputId": "21d78323-cc80-4ca4-b407-3838f14464c5"
   },
   "source": [
    "\"\"\"\n",
    "Normalize data\n",
    "\"\"\"\n",
    "train[\"store_item_id\"] = train[\"store\"].astype(str) + \"_\" + train[\"item\"].astype(str)\n",
    "if mode == \"valid\":\n",
    "    scale_data = train[train[\"date\"] < \"2017-01-01\"]\n",
    "else:\n",
    "    scale_data = train[train[\"date\"] >= \"2014-01-01\"]\n",
    "\n",
    "# This step is very SLOW\n",
    "scale_map = {}\n",
    "scaled_data = pd.DataFrame()\n",
    "for store_item_id, item_data in tqdm(data.groupby(\"store_item_id\", as_index=False)):\n",
    "    sidata = scale_data.loc[scale_data[\"store_item_id\"] == store_item_id, \"sales\"]\n",
    "    mu, sigma = sidata.mean(), sidata.std()\n",
    "    yearly_autocorr = get_yearly_autocorr(sidata)\n",
    "\n",
    "    item_data.loc[:, \"sales\"] = (item_data[\"sales\"] - mu) / sigma  # normalize by mean and standard deviation\n",
    "    scale_map[store_item_id] = {\"mu\": mu, \"sigma\": sigma}  # For future usage\n",
    "    item_data[\"mean_sales\"] = mu\n",
    "    item_data[\"yearly_corr\"] = yearly_autocorr\n",
    "    scaled_data = pd.concat([scaled_data, item_data], ignore_index=True)\n",
    "\n",
    "scaled_data[\"yearly_corr\"] = (scaled_data[\"yearly_corr\"] - scaled_data[\"yearly_corr\"].mean()) / scaled_data[\n",
    "    \"yearly_corr\"\n",
    "].std()\n",
    "scaled_data[\"mean_sales\"] = (scaled_data[\"mean_sales\"] - scaled_data[\"mean_sales\"].mean()) / scaled_data[\n",
    "    \"mean_sales\"\n",
    "].std()\n",
    "\n",
    "print(\"\\nscaled_data.decribe():\\n\", scaled_data.describe())\n",
    "print(\"\\nscaled_data.head():\\n\", scaled_data.head())\n",
    "\n",
    "# Plot out one store-item pair's sales number for illustration purposes\n",
    "scaled_data.loc[scaled_data[\"store_item_id\"] == \"1_1\", \"sales\"].plot()"
   ],
   "execution_count": 9,
   "outputs": [
    {
     "output_type": "display_data",
     "data": {
      "application/vnd.jupyter.widget-view+json": {
       "model_id": "ba4aeb5aecba4c9c88183215cb18c381",
       "version_minor": 0,
       "version_major": 2
      },
      "text/plain": [
       "HBox(children=(FloatProgress(value=0.0, max=500.0), HTML(value='')))"
      ]
     },
     "metadata": {
      "tags": []
     }
    },
    {
     "output_type": "stream",
     "text": [
      "\n",
      "\n",
      "scaled_data.decribe():\n",
      "              store         item        sales    dayofweek        month  \\\n",
      "count  958000.0000  958000.0000  913000.0000  958000.0000  958000.0000   \n",
      "mean        5.5000      25.5000      -0.1459       3.0000       6.3111   \n",
      "std         2.8723      14.4309       1.0075       1.9987       3.5046   \n",
      "min         1.0000       1.0000      -3.1931       0.0000       1.0000   \n",
      "25%         3.0000      13.0000      -0.8845       1.0000       3.0000   \n",
      "50%         5.5000      25.5000      -0.2049       3.0000       6.0000   \n",
      "75%         8.0000      38.0000       0.5287       5.0000       9.0000   \n",
      "max        10.0000      50.0000       5.3394       6.0000      12.0000   \n",
      "\n",
      "              year          day     year_mod  dayofweek_sin  dayofweek_cos  \\\n",
      "count  958000.0000  958000.0000  958000.0000    958000.0000    958000.0000   \n",
      "mean     2015.1414      15.7187       0.4283         0.0004        -0.0008   \n",
      "std         1.5193       8.7953       0.3039         0.7073         0.7070   \n",
      "min      2013.0000       1.0000       0.0000        -0.9749        -0.9010   \n",
      "25%      2014.0000       8.0000       0.2000        -0.7818        -0.9010   \n",
      "50%      2015.0000      16.0000       0.4000         0.0000        -0.2225   \n",
      "75%      2016.0000      23.0000       0.6000         0.7818         0.6235   \n",
      "max      2018.0000      31.0000       1.0000         0.9749         1.0000   \n",
      "\n",
      "        month_sin   month_cos     day_sin      day_cos  mean_sales  \\\n",
      "count  9.5800e+05  9.5800e+05  9.5800e+05  958000.0000  9.5800e+05   \n",
      "mean   3.2252e-02  1.9320e-02  1.6595e-03      -0.0190  3.2730e-12   \n",
      "std    7.1052e-01  7.0268e-01  7.1353e-01       0.7004  1.0000e+00   \n",
      "min   -1.0000e+00 -1.0000e+00 -9.9872e-01      -0.9949 -1.6421e+00   \n",
      "25%   -5.0000e-01 -5.0000e-01 -7.2479e-01      -0.7588 -8.8601e-01   \n",
      "50%    1.2246e-16  6.1232e-17 -2.4493e-16      -0.0506 -9.2136e-02   \n",
      "75%    8.6603e-01  8.6603e-01  7.2479e-01       0.6890  7.1491e-01   \n",
      "max    1.0000e+00  1.0000e+00  9.9872e-01       1.0000  2.5110e+00   \n",
      "\n",
      "       yearly_corr  \n",
      "count   9.5800e+05  \n",
      "mean   -4.0111e-13  \n",
      "std     1.0000e+00  \n",
      "min    -3.0611e+00  \n",
      "25%    -6.8742e-01  \n",
      "50%     2.3147e-01  \n",
      "75%     8.2330e-01  \n",
      "max     1.6255e+00  \n",
      "\n",
      "scaled_data.head():\n",
      "         date  store  item   sales store_item_id  dayofweek  month  year  day  \\\n",
      "0 2013-01-01     10     1 -1.4797          10_1          1      1  2013    1   \n",
      "1 2013-01-02     10     1 -1.4797          10_1          2      1  2013    2   \n",
      "2 2013-01-03     10     1 -1.2284          10_1          3      1  2013    3   \n",
      "3 2013-01-04     10     1 -1.1027          10_1          4      1  2013    4   \n",
      "4 2013-01-05     10     1 -1.7310          10_1          5      1  2013    5   \n",
      "\n",
      "   year_mod  dayofweek_sin  dayofweek_cos  month_sin  month_cos  day_sin  \\\n",
      "0       0.0         0.7818         0.6235        0.5      0.866   0.2013   \n",
      "1       0.0         0.9749        -0.2225        0.5      0.866   0.3944   \n",
      "2       0.0         0.4339        -0.9010        0.5      0.866   0.5713   \n",
      "3       0.0        -0.4339        -0.9010        0.5      0.866   0.7248   \n",
      "4       0.0        -0.9749        -0.2225        0.5      0.866   0.8486   \n",
      "\n",
      "   day_cos  mean_sales  yearly_corr  \n",
      "0   0.9795     -1.1445      -1.1509  \n",
      "1   0.9190     -1.1445      -1.1509  \n",
      "2   0.8208     -1.1445      -1.1509  \n",
      "3   0.6890     -1.1445      -1.1509  \n",
      "4   0.5290     -1.1445      -1.1509  \n"
     ],
     "name": "stdout"
    },
    {
     "output_type": "execute_result",
     "data": {
      "text/plain": [
       "<matplotlib.axes._subplots.AxesSubplot at 0x7fa2326c7550>"
      ]
     },
     "metadata": {
      "tags": []
     },
     "execution_count": 9
    },
    {
     "output_type": "display_data",
     "data": {
      "image/png": "[encoded data removed]",
      "text/plain": [
       "<Figure size 864x864 with 1 Axes>"
      ]
     },
     "metadata": {
      "tags": [],
      "needs_background": "light"
     }
    }
   ]
  },
  {
   "cell_type": "code",
   "metadata": {
    "id": "8lPvbtGnFPpM",
    "colab_type": "code",
    "colab": {
     "base_uri": "https://localhost:8080/",
     "height": 33
    },
    "executionInfo": {
     "status": "ok",
     "timestamp": 1594616669957,
     "user_tz": 420,
     "elapsed": 111174,
     "user": {
      "displayName": "Xin Heng",
      "photoUrl": "https://lh3.googleusercontent.com/a-/AOh14Ghih2qYah2j147oGatNY6HQBB8nFM3Wl0KUFG7X=s64",
      "userId": "10806682243950504635"
     }
    },
    "outputId": "5fe103c0-6c1b-4731-db0b-abb2a3e781bd"
   },
   "source": [
    "scaled_data = reduce_mem_usage(scaled_data)\n",
    "scaled_data.to_pickle(\"%s/processed_data_test_stdscaler.pkl\" % DATA_FOLDER)"
   ],
   "execution_count": 10,
   "outputs": [
    {
     "output_type": "stream",
     "text": [
      "Memory usage decreased to 39.29 Mb (70.1% reduction)\n"
     ],
     "name": "stdout"
    }
   ]
  },
  {
   "cell_type": "code",
   "metadata": {
    "id": "ocyzLJ0VGReY",
    "colab_type": "code",
    "colab": {
     "base_uri": "https://localhost:8080/",
     "height": 508
    },
    "executionInfo": {
     "status": "ok",
     "timestamp": 1594616871016,
     "user_tz": 420,
     "elapsed": 107644,
     "user": {
      "displayName": "Xin Heng",
      "photoUrl": "https://lh3.googleusercontent.com/a-/AOh14Ghih2qYah2j147oGatNY6HQBB8nFM3Wl0KUFG7X=s64",
      "userId": "10806682243950504635"
     }
    },
    "outputId": "17ea9c25-7468-4401-fecb-9fcc44406285"
   },
   "source": [
    "# Due to a weird windows problem, multiprocessing cannot be run in notebook\n",
    "# Then, pls run sequence_builder.py on scaled_data, and then load the pickle here\n",
    "sequence_data = pd.read_pickle(\"%s/sequence_data_stdscaler_test.pkl\" % DATA_FOLDER)\n",
    "print(\"\\nsequence_data.head()\\n\", sequence_data.head())"
   ],
   "execution_count": 14,
   "outputs": [
    {
     "output_type": "stream",
     "text": [
      "\n",
      "sequence_data.head()\n",
      "   store_item_id  \\\n",
      "0          10_1   \n",
      "1          10_1   \n",
      "2          10_1   \n",
      "3          10_1   \n",
      "4          10_1   \n",
      "\n",
      "                                                                                                                                                                                                                                                                                                                                                                                                                                                                                                                                                                                                                                                                                                                                                                                                                                                                                                                                                                                                                                                                                                                                                                                                                                                                                                                                                                                                                                                                                                                                                                                                                                                                                                                                                                                                                                                                                                                                                                                                                                                                                                                                                                                                                                                                                                                                                                                                                                                                                                                                                                                                                                                                                                                                                                                                                                                                                                                                                                                                                                                                                                                                                                                                                                                                                                                                                                                                                                                                                                                                                                                                                                                                                                                                                                                                                                                                                                                                                                                                                                                                                                                                                                                                                                                                                                                                                                                                                                                                                                                                                                                                                                                                                                                                                                                                                                                                                                                                                                                                                                                                                                                                                                                                                                                                                                                                                                                                                                                                                                                                                                                                                                                                                                                                                                                                                                                                                                                                                                                                                                                                                                              x_sequence  \\\n",
      "0            [[-1.4795, 0.7817, 0.6235, 0.5, 0.866, 0.0, 0.2013, 0.9795], [-1.4795, 0.975, -0.2225, 0.5, 0.866, 0.0, 0.3943, 0.919], [-1.229, 0.4338, -0.901, 0.5, 0.866, 0.0, 0.5713, 0.821], [-1.103, -0.4338, -0.901, 0.5, 0.866, 0.0, 0.7246, 0.689], [-1.731, -0.975, -0.2225, 0.5, 0.866, 0.0, 0.8486, 0.529], [-1.856, -0.7817, 0.6235, 0.5, 0.866, 0.0, 0.938, 0.3474], [-1.731, 0.0, 1.0, 0.5, 0.866, 0.0, 0.9883, 0.1514], [-0.8516, 0.7817, 0.6235, 0.5, 0.866, 0.0, 0.9985, -0.05066], [-1.982, 0.975, -0.2225, 0.5, 0.866, 0.0, 0.9683, -0.2507], [-1.103, 0.4338, -0.901, 0.5, 0.866, 0.0, 0.898, -0.4404], [-0.7256, -0.4338, -0.901, 0.5, 0.866, 0.0, 0.791, -0.6123], [-0.977, -0.975, -0.2225, 0.5, 0.866, 0.0, 0.6514, -0.759], [-0.6, -0.7817, 0.6235, 0.5, 0.866, 0.0, 0.4854, -0.8745], [-1.982, 0.0, 1.0, 0.5, 0.866, 0.0, 0.2993, -0.954], [-1.605, 0.7817, 0.6235, 0.5, 0.866, 0.0, 0.1012, -0.9946], [-1.856, 0.975, -0.2225, 0.5, 0.866, 0.0, -0.1012, -0.9946], [-1.3545, 0.4338, -0.901, 0.5, 0.866, 0.0, -0.2993, -0.954], [-1.103, -0.4338, -0.901, 0.5, 0.866, 0.0, -0.4854, -0.8745], [-0.977, -0.975, -0.2225, 0.5, 0.866, 0.0, -0.6514, -0.759], [-0.8516, -0.7817, 0.6235, 0.5, 0.866, 0.0, -0.791, -0.6123], [-1.982, 0.0, 1.0, 0.5, 0.866, 0.0, -0.898, -0.4404], [-2.36, 0.7817, 0.6235, 0.5, 0.866, 0.0, -0.9683, -0.2507], [-0.7256, 0.975, -0.2225, 0.5, 0.866, 0.0, -0.9985, -0.05066], [-1.731, 0.4338, -0.901, 0.5, 0.866, 0.0, -0.9883, 0.1514], [-0.6, -0.4338, -0.901, 0.5, 0.866, 0.0, -0.938, 0.3474], [-1.605, -0.975, -0.2225, 0.5, 0.866, 0.0, -0.8486, 0.529], [-1.731, -0.7817, 0.6235, 0.5, 0.866, 0.0, -0.7246, 0.689], [-1.731, 0.0, 1.0, 0.5, 0.866, 0.0, -0.5713, 0.821], [-1.4795, 0.7817, 0.6235, 0.5, 0.866, 0.0, -0.3943, 0.919], [-1.103, 0.975, -0.2225, 0.5, 0.866, 0.0, -0.2013, 0.9795], [-2.611, 0.4338, -0.901, 0.5, 0.866, 0.0, -0.0, 1.0], [-0.6, -0.4338, -0.901, 0.866, 0.5, 0.0, 0.2013, 0.9795], [-1.856, -0.975, -0.2225, 0.866, 0.5, 0.0, 0.3943, 0.919], [-0.7256, -0.7817, 0.6235, 0.866, 0.5, 0.0, 0.5713, 0.821], [-1.856, 0.0, 1.0, 0.866, 0.5, 0.0, 0.7246, 0.689], [-1.982, 0.7817, 0.6235, 0.866, 0.5, 0.0, 0.8486, 0.529], [-1.3545, 0.975, -0.2225, 0.866, 0.5, 0.0, 0.938, 0.3474], [-1.229, 0.4338, -0.901, 0.866, 0.5, 0.0, 0.9883, 0.1514], [-2.234, -0.4338, -0.901, 0.866, 0.5, 0.0, 0.9985, -0.05066], [-1.103, -0.975, -0.2225, 0.866, 0.5, 0.0, 0.9683, -0.2507], [-0.8516, -0.7817, 0.6235, 0.866, 0.5, 0.0, 0.898, -0.4404], [-1.605, 0.0, 1.0, 0.866, 0.5, 0.0, 0.791, -0.6123], [-1.229, 0.7817, 0.6235, 0.866, 0.5, 0.0, 0.6514, -0.759], [-1.3545, 0.975, -0.2225, 0.866, 0.5, 0.0, 0.4854, -0.8745], [-1.4795, 0.4338, -0.901, 0.866, 0.5, 0.0, 0.2993, -0.954], [-1.856, -0.4338, -0.901, 0.866, 0.5, 0.0, 0.1012, -0.9946], [-1.229, -0.975, -0.2225, 0.866, 0.5, 0.0, -0.1012, -0.9946], [-0.6, -0.7817, 0.6235, 0.866, 0.5, 0.0, -0.2993, -0.954], [-0.8516, 0.0, 1.0, 0.866, 0.5, 0.0, -0.4854, -0.8745], [-1.229, 0.7817, 0.6235, 0.866, 0.5, 0.0, -0.6514, -0.759], [-0.977, 0.975, -0.2225, 0.866, 0.5, 0.0, -0.791, -0.6123], [-0.8516, 0.4338, -0.901, 0.866, 0.5, 0.0, -0.898, -0.4404], [-0.977, -0.4338, -0.901, 0.866, 0.5, 0.0, -0.9683, -0.2507], [-0.6, -0.975, -0.2225, 0.866, 0.5, 0.0, -0.9985, -0.05066], [0.531, -0.7817, 0.6235, 0.866, 0.5, 0.0, -0.9883, 0.1514], [-1.3545, 0.0, 1.0, 0.866, 0.5, 0.0, -0.938, 0.3474], [-1.103, 0.7817, 0.6235, 0.866, 0.5, 0.0, -0.8486, 0.529], [-1.229, 0.975, -0.2225, 0.866, 0.5, 0.0, -0.7246, 0.689], [0.02821, 0.4338, -0.901, 0.866, 0.5, 0.0, -0.5713, 0.821], [0.4053, -0.4338, -0.901, 1.0, 0.0, 0.0, 0.2013, 0.9795], [-1.103, -0.975, -0.2225, 1.0, 0.0, 0.0, 0.3943, 0.919], [-0.0975, -0.7817, 0.6235, 1.0, 0.0, 0.0, 0.5713, 0.821], [-1.229, 0.0, 1.0, 1.0, 0.0, 0.0, 0.7246, 0.689], [-0.977, 0.7817, 0.6235, 1.0, 0.0, 0.0, 0.8486, 0.529], [-1.4795, 0.975, -0.2225, 1.0, 0.0, 0.0, 0.938, 0.3474], [-0.2231, 0.4338, -0.901, 1.0, 0.0, 0.0, 0.9883, 0.1514], [-0.3489, -0.4338, -0.901, 1.0, 0.0, 0.0, 0.9985, -0.05066], [-1.3545, -0.975, -0.2225, 1.0, 0.0, 0.0, 0.9683, -0.2507], [0.2795, -0.7817, 0.6235, 1.0, 0.0, 0.0, 0.898, -0.4404], [-2.234, 0.0, 1.0, 1.0, 0.0, 0.0, 0.791, -0.6123], [-0.2231, 0.7817, 0.6235, 1.0, 0.0, 0.0, 0.6514, -0.759], [-1.3545, 0.975, -0.2225, 1.0, 0.0, 0.0, 0.4854, -0.8745], [-1.4795, 0.4338, -0.901, 1.0, 0.0, 0.0, 0.2993, -0.954], [-1.3545, -0.4338, -0.901, 1.0, 0.0, 0.0, 0.1012, -0.9946], [-0.6, -0.975, -0.2225, 1.0, 0.0, 0.0, -0.1012, -0.9946], [-1.982, -0.7817, 0.6235, 1.0, 0.0, 0.0, -0.2993, -0.954], [-0.2231, 0.0, 1.0, 1.0, 0.0, 0.0, -0.4854, -0.8745], [-1.3545, 0.7817, 0.6235, 1.0, 0.0, 0.0, -0.6514, -0.759], [-0.4744, 0.975, -0.2225, 1.0, 0.0, 0.0, -0.791, -0.6123], [-0.7256, 0.4338, -0.901, 1.0, 0.0, 0.0, -0.898, -0.4404], [-1.3545, -0.4338, -0.901, 1.0, 0.0, 0.0, -0.9683, -0.2507], [-1.4795, -0.975, -0.2225, 1.0, 0.0, 0.0, -0.9985, -0.05066], [-0.977, -0.7817, 0.6235, 1.0, 0.0, 0.0, -0.9883, 0.1514], [-0.7256, 0.0, 1.0, 1.0, 0.0, 0.0, -0.938, 0.3474], [-1.229, 0.7817, 0.6235, 1.0, 0.0, 0.0, -0.8486, 0.529], [-0.7256, 0.975, -0.2225, 1.0, 0.0, 0.0, -0.7246, 0.689], [-0.8516, 0.4338, -0.901, 1.0, 0.0, 0.0, -0.5713, 0.821], [-0.6, -0.4338, -0.901, 1.0, 0.0, 0.0, -0.3943, 0.919], [-0.4744, -0.975, -0.2225, 1.0, 0.0, 0.0, -0.2013, 0.9795], [-1.103, -0.7817, 0.6235, 1.0, 0.0, 0.0, -0.0, 1.0], [-1.3545, 0.0, 1.0, 0.866, -0.5, 0.0, 0.2013, 0.9795], [-0.977, 0.7817, 0.6235, 0.866, -0.5, 0.0, 0.3943, 0.919], [-0.0975, 0.975, -0.2225, 0.866, -0.5, 0.0, 0.5713, 0.821], [-0.7256, 0.4338, -0.901, 0.866, -0.5, 0.0, 0.7246, 0.689], [0.2795, -0.4338, -0.901, 0.866, -0.5, 0.0, 0.8486, 0.529], [-0.977, -0.975, -0.2225, 0.866, -0.5, 0.0, 0.938, 0.3474], [0.6562, -0.7817, 0.6235, 0.866, -0.5, 0.0, 0.9883, 0.1514], [-1.605, 0.0, 1.0, 0.866, -0.5, 0.0, 0.9985, -0.05066], [-1.103, 0.7817, 0.6235, 0.866, -0.5, 0.0, 0.9683, -0.2507], [-0.3489, 0.975, -0.2225, 0.866, -0.5, 0.0, 0.898, -0.4404], ...]   \n",
      "1           [[-1.4795, 0.975, -0.2225, 0.5, 0.866, 0.0, 0.3943, 0.919], [-1.229, 0.4338, -0.901, 0.5, 0.866, 0.0, 0.5713, 0.821], [-1.103, -0.4338, -0.901, 0.5, 0.866, 0.0, 0.7246, 0.689], [-1.731, -0.975, -0.2225, 0.5, 0.866, 0.0, 0.8486, 0.529], [-1.856, -0.7817, 0.6235, 0.5, 0.866, 0.0, 0.938, 0.3474], [-1.731, 0.0, 1.0, 0.5, 0.866, 0.0, 0.9883, 0.1514], [-0.8516, 0.7817, 0.6235, 0.5, 0.866, 0.0, 0.9985, -0.05066], [-1.982, 0.975, -0.2225, 0.5, 0.866, 0.0, 0.9683, -0.2507], [-1.103, 0.4338, -0.901, 0.5, 0.866, 0.0, 0.898, -0.4404], [-0.7256, -0.4338, -0.901, 0.5, 0.866, 0.0, 0.791, -0.6123], [-0.977, -0.975, -0.2225, 0.5, 0.866, 0.0, 0.6514, -0.759], [-0.6, -0.7817, 0.6235, 0.5, 0.866, 0.0, 0.4854, -0.8745], [-1.982, 0.0, 1.0, 0.5, 0.866, 0.0, 0.2993, -0.954], [-1.605, 0.7817, 0.6235, 0.5, 0.866, 0.0, 0.1012, -0.9946], [-1.856, 0.975, -0.2225, 0.5, 0.866, 0.0, -0.1012, -0.9946], [-1.3545, 0.4338, -0.901, 0.5, 0.866, 0.0, -0.2993, -0.954], [-1.103, -0.4338, -0.901, 0.5, 0.866, 0.0, -0.4854, -0.8745], [-0.977, -0.975, -0.2225, 0.5, 0.866, 0.0, -0.6514, -0.759], [-0.8516, -0.7817, 0.6235, 0.5, 0.866, 0.0, -0.791, -0.6123], [-1.982, 0.0, 1.0, 0.5, 0.866, 0.0, -0.898, -0.4404], [-2.36, 0.7817, 0.6235, 0.5, 0.866, 0.0, -0.9683, -0.2507], [-0.7256, 0.975, -0.2225, 0.5, 0.866, 0.0, -0.9985, -0.05066], [-1.731, 0.4338, -0.901, 0.5, 0.866, 0.0, -0.9883, 0.1514], [-0.6, -0.4338, -0.901, 0.5, 0.866, 0.0, -0.938, 0.3474], [-1.605, -0.975, -0.2225, 0.5, 0.866, 0.0, -0.8486, 0.529], [-1.731, -0.7817, 0.6235, 0.5, 0.866, 0.0, -0.7246, 0.689], [-1.731, 0.0, 1.0, 0.5, 0.866, 0.0, -0.5713, 0.821], [-1.4795, 0.7817, 0.6235, 0.5, 0.866, 0.0, -0.3943, 0.919], [-1.103, 0.975, -0.2225, 0.5, 0.866, 0.0, -0.2013, 0.9795], [-2.611, 0.4338, -0.901, 0.5, 0.866, 0.0, -0.0, 1.0], [-0.6, -0.4338, -0.901, 0.866, 0.5, 0.0, 0.2013, 0.9795], [-1.856, -0.975, -0.2225, 0.866, 0.5, 0.0, 0.3943, 0.919], [-0.7256, -0.7817, 0.6235, 0.866, 0.5, 0.0, 0.5713, 0.821], [-1.856, 0.0, 1.0, 0.866, 0.5, 0.0, 0.7246, 0.689], [-1.982, 0.7817, 0.6235, 0.866, 0.5, 0.0, 0.8486, 0.529], [-1.3545, 0.975, -0.2225, 0.866, 0.5, 0.0, 0.938, 0.3474], [-1.229, 0.4338, -0.901, 0.866, 0.5, 0.0, 0.9883, 0.1514], [-2.234, -0.4338, -0.901, 0.866, 0.5, 0.0, 0.9985, -0.05066], [-1.103, -0.975, -0.2225, 0.866, 0.5, 0.0, 0.9683, -0.2507], [-0.8516, -0.7817, 0.6235, 0.866, 0.5, 0.0, 0.898, -0.4404], [-1.605, 0.0, 1.0, 0.866, 0.5, 0.0, 0.791, -0.6123], [-1.229, 0.7817, 0.6235, 0.866, 0.5, 0.0, 0.6514, -0.759], [-1.3545, 0.975, -0.2225, 0.866, 0.5, 0.0, 0.4854, -0.8745], [-1.4795, 0.4338, -0.901, 0.866, 0.5, 0.0, 0.2993, -0.954], [-1.856, -0.4338, -0.901, 0.866, 0.5, 0.0, 0.1012, -0.9946], [-1.229, -0.975, -0.2225, 0.866, 0.5, 0.0, -0.1012, -0.9946], [-0.6, -0.7817, 0.6235, 0.866, 0.5, 0.0, -0.2993, -0.954], [-0.8516, 0.0, 1.0, 0.866, 0.5, 0.0, -0.4854, -0.8745], [-1.229, 0.7817, 0.6235, 0.866, 0.5, 0.0, -0.6514, -0.759], [-0.977, 0.975, -0.2225, 0.866, 0.5, 0.0, -0.791, -0.6123], [-0.8516, 0.4338, -0.901, 0.866, 0.5, 0.0, -0.898, -0.4404], [-0.977, -0.4338, -0.901, 0.866, 0.5, 0.0, -0.9683, -0.2507], [-0.6, -0.975, -0.2225, 0.866, 0.5, 0.0, -0.9985, -0.05066], [0.531, -0.7817, 0.6235, 0.866, 0.5, 0.0, -0.9883, 0.1514], [-1.3545, 0.0, 1.0, 0.866, 0.5, 0.0, -0.938, 0.3474], [-1.103, 0.7817, 0.6235, 0.866, 0.5, 0.0, -0.8486, 0.529], [-1.229, 0.975, -0.2225, 0.866, 0.5, 0.0, -0.7246, 0.689], [0.02821, 0.4338, -0.901, 0.866, 0.5, 0.0, -0.5713, 0.821], [0.4053, -0.4338, -0.901, 1.0, 0.0, 0.0, 0.2013, 0.9795], [-1.103, -0.975, -0.2225, 1.0, 0.0, 0.0, 0.3943, 0.919], [-0.0975, -0.7817, 0.6235, 1.0, 0.0, 0.0, 0.5713, 0.821], [-1.229, 0.0, 1.0, 1.0, 0.0, 0.0, 0.7246, 0.689], [-0.977, 0.7817, 0.6235, 1.0, 0.0, 0.0, 0.8486, 0.529], [-1.4795, 0.975, -0.2225, 1.0, 0.0, 0.0, 0.938, 0.3474], [-0.2231, 0.4338, -0.901, 1.0, 0.0, 0.0, 0.9883, 0.1514], [-0.3489, -0.4338, -0.901, 1.0, 0.0, 0.0, 0.9985, -0.05066], [-1.3545, -0.975, -0.2225, 1.0, 0.0, 0.0, 0.9683, -0.2507], [0.2795, -0.7817, 0.6235, 1.0, 0.0, 0.0, 0.898, -0.4404], [-2.234, 0.0, 1.0, 1.0, 0.0, 0.0, 0.791, -0.6123], [-0.2231, 0.7817, 0.6235, 1.0, 0.0, 0.0, 0.6514, -0.759], [-1.3545, 0.975, -0.2225, 1.0, 0.0, 0.0, 0.4854, -0.8745], [-1.4795, 0.4338, -0.901, 1.0, 0.0, 0.0, 0.2993, -0.954], [-1.3545, -0.4338, -0.901, 1.0, 0.0, 0.0, 0.1012, -0.9946], [-0.6, -0.975, -0.2225, 1.0, 0.0, 0.0, -0.1012, -0.9946], [-1.982, -0.7817, 0.6235, 1.0, 0.0, 0.0, -0.2993, -0.954], [-0.2231, 0.0, 1.0, 1.0, 0.0, 0.0, -0.4854, -0.8745], [-1.3545, 0.7817, 0.6235, 1.0, 0.0, 0.0, -0.6514, -0.759], [-0.4744, 0.975, -0.2225, 1.0, 0.0, 0.0, -0.791, -0.6123], [-0.7256, 0.4338, -0.901, 1.0, 0.0, 0.0, -0.898, -0.4404], [-1.3545, -0.4338, -0.901, 1.0, 0.0, 0.0, -0.9683, -0.2507], [-1.4795, -0.975, -0.2225, 1.0, 0.0, 0.0, -0.9985, -0.05066], [-0.977, -0.7817, 0.6235, 1.0, 0.0, 0.0, -0.9883, 0.1514], [-0.7256, 0.0, 1.0, 1.0, 0.0, 0.0, -0.938, 0.3474], [-1.229, 0.7817, 0.6235, 1.0, 0.0, 0.0, -0.8486, 0.529], [-0.7256, 0.975, -0.2225, 1.0, 0.0, 0.0, -0.7246, 0.689], [-0.8516, 0.4338, -0.901, 1.0, 0.0, 0.0, -0.5713, 0.821], [-0.6, -0.4338, -0.901, 1.0, 0.0, 0.0, -0.3943, 0.919], [-0.4744, -0.975, -0.2225, 1.0, 0.0, 0.0, -0.2013, 0.9795], [-1.103, -0.7817, 0.6235, 1.0, 0.0, 0.0, -0.0, 1.0], [-1.3545, 0.0, 1.0, 0.866, -0.5, 0.0, 0.2013, 0.9795], [-0.977, 0.7817, 0.6235, 0.866, -0.5, 0.0, 0.3943, 0.919], [-0.0975, 0.975, -0.2225, 0.866, -0.5, 0.0, 0.5713, 0.821], [-0.7256, 0.4338, -0.901, 0.866, -0.5, 0.0, 0.7246, 0.689], [0.2795, -0.4338, -0.901, 0.866, -0.5, 0.0, 0.8486, 0.529], [-0.977, -0.975, -0.2225, 0.866, -0.5, 0.0, 0.938, 0.3474], [0.6562, -0.7817, 0.6235, 0.866, -0.5, 0.0, 0.9883, 0.1514], [-1.605, 0.0, 1.0, 0.866, -0.5, 0.0, 0.9985, -0.05066], [-1.103, 0.7817, 0.6235, 0.866, -0.5, 0.0, 0.9683, -0.2507], [-0.3489, 0.975, -0.2225, 0.866, -0.5, 0.0, 0.898, -0.4404], [-1.4795, 0.4338, -0.901, 0.866, -0.5, 0.0, 0.791, -0.6123], ...]   \n",
      "2        [[-1.229, 0.4338, -0.901, 0.5, 0.866, 0.0, 0.5713, 0.821], [-1.103, -0.4338, -0.901, 0.5, 0.866, 0.0, 0.7246, 0.689], [-1.731, -0.975, -0.2225, 0.5, 0.866, 0.0, 0.8486, 0.529], [-1.856, -0.7817, 0.6235, 0.5, 0.866, 0.0, 0.938, 0.3474], [-1.731, 0.0, 1.0, 0.5, 0.866, 0.0, 0.9883, 0.1514], [-0.8516, 0.7817, 0.6235, 0.5, 0.866, 0.0, 0.9985, -0.05066], [-1.982, 0.975, -0.2225, 0.5, 0.866, 0.0, 0.9683, -0.2507], [-1.103, 0.4338, -0.901, 0.5, 0.866, 0.0, 0.898, -0.4404], [-0.7256, -0.4338, -0.901, 0.5, 0.866, 0.0, 0.791, -0.6123], [-0.977, -0.975, -0.2225, 0.5, 0.866, 0.0, 0.6514, -0.759], [-0.6, -0.7817, 0.6235, 0.5, 0.866, 0.0, 0.4854, -0.8745], [-1.982, 0.0, 1.0, 0.5, 0.866, 0.0, 0.2993, -0.954], [-1.605, 0.7817, 0.6235, 0.5, 0.866, 0.0, 0.1012, -0.9946], [-1.856, 0.975, -0.2225, 0.5, 0.866, 0.0, -0.1012, -0.9946], [-1.3545, 0.4338, -0.901, 0.5, 0.866, 0.0, -0.2993, -0.954], [-1.103, -0.4338, -0.901, 0.5, 0.866, 0.0, -0.4854, -0.8745], [-0.977, -0.975, -0.2225, 0.5, 0.866, 0.0, -0.6514, -0.759], [-0.8516, -0.7817, 0.6235, 0.5, 0.866, 0.0, -0.791, -0.6123], [-1.982, 0.0, 1.0, 0.5, 0.866, 0.0, -0.898, -0.4404], [-2.36, 0.7817, 0.6235, 0.5, 0.866, 0.0, -0.9683, -0.2507], [-0.7256, 0.975, -0.2225, 0.5, 0.866, 0.0, -0.9985, -0.05066], [-1.731, 0.4338, -0.901, 0.5, 0.866, 0.0, -0.9883, 0.1514], [-0.6, -0.4338, -0.901, 0.5, 0.866, 0.0, -0.938, 0.3474], [-1.605, -0.975, -0.2225, 0.5, 0.866, 0.0, -0.8486, 0.529], [-1.731, -0.7817, 0.6235, 0.5, 0.866, 0.0, -0.7246, 0.689], [-1.731, 0.0, 1.0, 0.5, 0.866, 0.0, -0.5713, 0.821], [-1.4795, 0.7817, 0.6235, 0.5, 0.866, 0.0, -0.3943, 0.919], [-1.103, 0.975, -0.2225, 0.5, 0.866, 0.0, -0.2013, 0.9795], [-2.611, 0.4338, -0.901, 0.5, 0.866, 0.0, -0.0, 1.0], [-0.6, -0.4338, -0.901, 0.866, 0.5, 0.0, 0.2013, 0.9795], [-1.856, -0.975, -0.2225, 0.866, 0.5, 0.0, 0.3943, 0.919], [-0.7256, -0.7817, 0.6235, 0.866, 0.5, 0.0, 0.5713, 0.821], [-1.856, 0.0, 1.0, 0.866, 0.5, 0.0, 0.7246, 0.689], [-1.982, 0.7817, 0.6235, 0.866, 0.5, 0.0, 0.8486, 0.529], [-1.3545, 0.975, -0.2225, 0.866, 0.5, 0.0, 0.938, 0.3474], [-1.229, 0.4338, -0.901, 0.866, 0.5, 0.0, 0.9883, 0.1514], [-2.234, -0.4338, -0.901, 0.866, 0.5, 0.0, 0.9985, -0.05066], [-1.103, -0.975, -0.2225, 0.866, 0.5, 0.0, 0.9683, -0.2507], [-0.8516, -0.7817, 0.6235, 0.866, 0.5, 0.0, 0.898, -0.4404], [-1.605, 0.0, 1.0, 0.866, 0.5, 0.0, 0.791, -0.6123], [-1.229, 0.7817, 0.6235, 0.866, 0.5, 0.0, 0.6514, -0.759], [-1.3545, 0.975, -0.2225, 0.866, 0.5, 0.0, 0.4854, -0.8745], [-1.4795, 0.4338, -0.901, 0.866, 0.5, 0.0, 0.2993, -0.954], [-1.856, -0.4338, -0.901, 0.866, 0.5, 0.0, 0.1012, -0.9946], [-1.229, -0.975, -0.2225, 0.866, 0.5, 0.0, -0.1012, -0.9946], [-0.6, -0.7817, 0.6235, 0.866, 0.5, 0.0, -0.2993, -0.954], [-0.8516, 0.0, 1.0, 0.866, 0.5, 0.0, -0.4854, -0.8745], [-1.229, 0.7817, 0.6235, 0.866, 0.5, 0.0, -0.6514, -0.759], [-0.977, 0.975, -0.2225, 0.866, 0.5, 0.0, -0.791, -0.6123], [-0.8516, 0.4338, -0.901, 0.866, 0.5, 0.0, -0.898, -0.4404], [-0.977, -0.4338, -0.901, 0.866, 0.5, 0.0, -0.9683, -0.2507], [-0.6, -0.975, -0.2225, 0.866, 0.5, 0.0, -0.9985, -0.05066], [0.531, -0.7817, 0.6235, 0.866, 0.5, 0.0, -0.9883, 0.1514], [-1.3545, 0.0, 1.0, 0.866, 0.5, 0.0, -0.938, 0.3474], [-1.103, 0.7817, 0.6235, 0.866, 0.5, 0.0, -0.8486, 0.529], [-1.229, 0.975, -0.2225, 0.866, 0.5, 0.0, -0.7246, 0.689], [0.02821, 0.4338, -0.901, 0.866, 0.5, 0.0, -0.5713, 0.821], [0.4053, -0.4338, -0.901, 1.0, 0.0, 0.0, 0.2013, 0.9795], [-1.103, -0.975, -0.2225, 1.0, 0.0, 0.0, 0.3943, 0.919], [-0.0975, -0.7817, 0.6235, 1.0, 0.0, 0.0, 0.5713, 0.821], [-1.229, 0.0, 1.0, 1.0, 0.0, 0.0, 0.7246, 0.689], [-0.977, 0.7817, 0.6235, 1.0, 0.0, 0.0, 0.8486, 0.529], [-1.4795, 0.975, -0.2225, 1.0, 0.0, 0.0, 0.938, 0.3474], [-0.2231, 0.4338, -0.901, 1.0, 0.0, 0.0, 0.9883, 0.1514], [-0.3489, -0.4338, -0.901, 1.0, 0.0, 0.0, 0.9985, -0.05066], [-1.3545, -0.975, -0.2225, 1.0, 0.0, 0.0, 0.9683, -0.2507], [0.2795, -0.7817, 0.6235, 1.0, 0.0, 0.0, 0.898, -0.4404], [-2.234, 0.0, 1.0, 1.0, 0.0, 0.0, 0.791, -0.6123], [-0.2231, 0.7817, 0.6235, 1.0, 0.0, 0.0, 0.6514, -0.759], [-1.3545, 0.975, -0.2225, 1.0, 0.0, 0.0, 0.4854, -0.8745], [-1.4795, 0.4338, -0.901, 1.0, 0.0, 0.0, 0.2993, -0.954], [-1.3545, -0.4338, -0.901, 1.0, 0.0, 0.0, 0.1012, -0.9946], [-0.6, -0.975, -0.2225, 1.0, 0.0, 0.0, -0.1012, -0.9946], [-1.982, -0.7817, 0.6235, 1.0, 0.0, 0.0, -0.2993, -0.954], [-0.2231, 0.0, 1.0, 1.0, 0.0, 0.0, -0.4854, -0.8745], [-1.3545, 0.7817, 0.6235, 1.0, 0.0, 0.0, -0.6514, -0.759], [-0.4744, 0.975, -0.2225, 1.0, 0.0, 0.0, -0.791, -0.6123], [-0.7256, 0.4338, -0.901, 1.0, 0.0, 0.0, -0.898, -0.4404], [-1.3545, -0.4338, -0.901, 1.0, 0.0, 0.0, -0.9683, -0.2507], [-1.4795, -0.975, -0.2225, 1.0, 0.0, 0.0, -0.9985, -0.05066], [-0.977, -0.7817, 0.6235, 1.0, 0.0, 0.0, -0.9883, 0.1514], [-0.7256, 0.0, 1.0, 1.0, 0.0, 0.0, -0.938, 0.3474], [-1.229, 0.7817, 0.6235, 1.0, 0.0, 0.0, -0.8486, 0.529], [-0.7256, 0.975, -0.2225, 1.0, 0.0, 0.0, -0.7246, 0.689], [-0.8516, 0.4338, -0.901, 1.0, 0.0, 0.0, -0.5713, 0.821], [-0.6, -0.4338, -0.901, 1.0, 0.0, 0.0, -0.3943, 0.919], [-0.4744, -0.975, -0.2225, 1.0, 0.0, 0.0, -0.2013, 0.9795], [-1.103, -0.7817, 0.6235, 1.0, 0.0, 0.0, -0.0, 1.0], [-1.3545, 0.0, 1.0, 0.866, -0.5, 0.0, 0.2013, 0.9795], [-0.977, 0.7817, 0.6235, 0.866, -0.5, 0.0, 0.3943, 0.919], [-0.0975, 0.975, -0.2225, 0.866, -0.5, 0.0, 0.5713, 0.821], [-0.7256, 0.4338, -0.901, 0.866, -0.5, 0.0, 0.7246, 0.689], [0.2795, -0.4338, -0.901, 0.866, -0.5, 0.0, 0.8486, 0.529], [-0.977, -0.975, -0.2225, 0.866, -0.5, 0.0, 0.938, 0.3474], [0.6562, -0.7817, 0.6235, 0.866, -0.5, 0.0, 0.9883, 0.1514], [-1.605, 0.0, 1.0, 0.866, -0.5, 0.0, 0.9985, -0.05066], [-1.103, 0.7817, 0.6235, 0.866, -0.5, 0.0, 0.9683, -0.2507], [-0.3489, 0.975, -0.2225, 0.866, -0.5, 0.0, 0.898, -0.4404], [-1.4795, 0.4338, -0.901, 0.866, -0.5, 0.0, 0.791, -0.6123], [-0.7256, -0.4338, -0.901, 0.866, -0.5, 0.0, 0.6514, -0.759], ...]   \n",
      "3    [[-1.103, -0.4338, -0.901, 0.5, 0.866, 0.0, 0.7246, 0.689], [-1.731, -0.975, -0.2225, 0.5, 0.866, 0.0, 0.8486, 0.529], [-1.856, -0.7817, 0.6235, 0.5, 0.866, 0.0, 0.938, 0.3474], [-1.731, 0.0, 1.0, 0.5, 0.866, 0.0, 0.9883, 0.1514], [-0.8516, 0.7817, 0.6235, 0.5, 0.866, 0.0, 0.9985, -0.05066], [-1.982, 0.975, -0.2225, 0.5, 0.866, 0.0, 0.9683, -0.2507], [-1.103, 0.4338, -0.901, 0.5, 0.866, 0.0, 0.898, -0.4404], [-0.7256, -0.4338, -0.901, 0.5, 0.866, 0.0, 0.791, -0.6123], [-0.977, -0.975, -0.2225, 0.5, 0.866, 0.0, 0.6514, -0.759], [-0.6, -0.7817, 0.6235, 0.5, 0.866, 0.0, 0.4854, -0.8745], [-1.982, 0.0, 1.0, 0.5, 0.866, 0.0, 0.2993, -0.954], [-1.605, 0.7817, 0.6235, 0.5, 0.866, 0.0, 0.1012, -0.9946], [-1.856, 0.975, -0.2225, 0.5, 0.866, 0.0, -0.1012, -0.9946], [-1.3545, 0.4338, -0.901, 0.5, 0.866, 0.0, -0.2993, -0.954], [-1.103, -0.4338, -0.901, 0.5, 0.866, 0.0, -0.4854, -0.8745], [-0.977, -0.975, -0.2225, 0.5, 0.866, 0.0, -0.6514, -0.759], [-0.8516, -0.7817, 0.6235, 0.5, 0.866, 0.0, -0.791, -0.6123], [-1.982, 0.0, 1.0, 0.5, 0.866, 0.0, -0.898, -0.4404], [-2.36, 0.7817, 0.6235, 0.5, 0.866, 0.0, -0.9683, -0.2507], [-0.7256, 0.975, -0.2225, 0.5, 0.866, 0.0, -0.9985, -0.05066], [-1.731, 0.4338, -0.901, 0.5, 0.866, 0.0, -0.9883, 0.1514], [-0.6, -0.4338, -0.901, 0.5, 0.866, 0.0, -0.938, 0.3474], [-1.605, -0.975, -0.2225, 0.5, 0.866, 0.0, -0.8486, 0.529], [-1.731, -0.7817, 0.6235, 0.5, 0.866, 0.0, -0.7246, 0.689], [-1.731, 0.0, 1.0, 0.5, 0.866, 0.0, -0.5713, 0.821], [-1.4795, 0.7817, 0.6235, 0.5, 0.866, 0.0, -0.3943, 0.919], [-1.103, 0.975, -0.2225, 0.5, 0.866, 0.0, -0.2013, 0.9795], [-2.611, 0.4338, -0.901, 0.5, 0.866, 0.0, -0.0, 1.0], [-0.6, -0.4338, -0.901, 0.866, 0.5, 0.0, 0.2013, 0.9795], [-1.856, -0.975, -0.2225, 0.866, 0.5, 0.0, 0.3943, 0.919], [-0.7256, -0.7817, 0.6235, 0.866, 0.5, 0.0, 0.5713, 0.821], [-1.856, 0.0, 1.0, 0.866, 0.5, 0.0, 0.7246, 0.689], [-1.982, 0.7817, 0.6235, 0.866, 0.5, 0.0, 0.8486, 0.529], [-1.3545, 0.975, -0.2225, 0.866, 0.5, 0.0, 0.938, 0.3474], [-1.229, 0.4338, -0.901, 0.866, 0.5, 0.0, 0.9883, 0.1514], [-2.234, -0.4338, -0.901, 0.866, 0.5, 0.0, 0.9985, -0.05066], [-1.103, -0.975, -0.2225, 0.866, 0.5, 0.0, 0.9683, -0.2507], [-0.8516, -0.7817, 0.6235, 0.866, 0.5, 0.0, 0.898, -0.4404], [-1.605, 0.0, 1.0, 0.866, 0.5, 0.0, 0.791, -0.6123], [-1.229, 0.7817, 0.6235, 0.866, 0.5, 0.0, 0.6514, -0.759], [-1.3545, 0.975, -0.2225, 0.866, 0.5, 0.0, 0.4854, -0.8745], [-1.4795, 0.4338, -0.901, 0.866, 0.5, 0.0, 0.2993, -0.954], [-1.856, -0.4338, -0.901, 0.866, 0.5, 0.0, 0.1012, -0.9946], [-1.229, -0.975, -0.2225, 0.866, 0.5, 0.0, -0.1012, -0.9946], [-0.6, -0.7817, 0.6235, 0.866, 0.5, 0.0, -0.2993, -0.954], [-0.8516, 0.0, 1.0, 0.866, 0.5, 0.0, -0.4854, -0.8745], [-1.229, 0.7817, 0.6235, 0.866, 0.5, 0.0, -0.6514, -0.759], [-0.977, 0.975, -0.2225, 0.866, 0.5, 0.0, -0.791, -0.6123], [-0.8516, 0.4338, -0.901, 0.866, 0.5, 0.0, -0.898, -0.4404], [-0.977, -0.4338, -0.901, 0.866, 0.5, 0.0, -0.9683, -0.2507], [-0.6, -0.975, -0.2225, 0.866, 0.5, 0.0, -0.9985, -0.05066], [0.531, -0.7817, 0.6235, 0.866, 0.5, 0.0, -0.9883, 0.1514], [-1.3545, 0.0, 1.0, 0.866, 0.5, 0.0, -0.938, 0.3474], [-1.103, 0.7817, 0.6235, 0.866, 0.5, 0.0, -0.8486, 0.529], [-1.229, 0.975, -0.2225, 0.866, 0.5, 0.0, -0.7246, 0.689], [0.02821, 0.4338, -0.901, 0.866, 0.5, 0.0, -0.5713, 0.821], [0.4053, -0.4338, -0.901, 1.0, 0.0, 0.0, 0.2013, 0.9795], [-1.103, -0.975, -0.2225, 1.0, 0.0, 0.0, 0.3943, 0.919], [-0.0975, -0.7817, 0.6235, 1.0, 0.0, 0.0, 0.5713, 0.821], [-1.229, 0.0, 1.0, 1.0, 0.0, 0.0, 0.7246, 0.689], [-0.977, 0.7817, 0.6235, 1.0, 0.0, 0.0, 0.8486, 0.529], [-1.4795, 0.975, -0.2225, 1.0, 0.0, 0.0, 0.938, 0.3474], [-0.2231, 0.4338, -0.901, 1.0, 0.0, 0.0, 0.9883, 0.1514], [-0.3489, -0.4338, -0.901, 1.0, 0.0, 0.0, 0.9985, -0.05066], [-1.3545, -0.975, -0.2225, 1.0, 0.0, 0.0, 0.9683, -0.2507], [0.2795, -0.7817, 0.6235, 1.0, 0.0, 0.0, 0.898, -0.4404], [-2.234, 0.0, 1.0, 1.0, 0.0, 0.0, 0.791, -0.6123], [-0.2231, 0.7817, 0.6235, 1.0, 0.0, 0.0, 0.6514, -0.759], [-1.3545, 0.975, -0.2225, 1.0, 0.0, 0.0, 0.4854, -0.8745], [-1.4795, 0.4338, -0.901, 1.0, 0.0, 0.0, 0.2993, -0.954], [-1.3545, -0.4338, -0.901, 1.0, 0.0, 0.0, 0.1012, -0.9946], [-0.6, -0.975, -0.2225, 1.0, 0.0, 0.0, -0.1012, -0.9946], [-1.982, -0.7817, 0.6235, 1.0, 0.0, 0.0, -0.2993, -0.954], [-0.2231, 0.0, 1.0, 1.0, 0.0, 0.0, -0.4854, -0.8745], [-1.3545, 0.7817, 0.6235, 1.0, 0.0, 0.0, -0.6514, -0.759], [-0.4744, 0.975, -0.2225, 1.0, 0.0, 0.0, -0.791, -0.6123], [-0.7256, 0.4338, -0.901, 1.0, 0.0, 0.0, -0.898, -0.4404], [-1.3545, -0.4338, -0.901, 1.0, 0.0, 0.0, -0.9683, -0.2507], [-1.4795, -0.975, -0.2225, 1.0, 0.0, 0.0, -0.9985, -0.05066], [-0.977, -0.7817, 0.6235, 1.0, 0.0, 0.0, -0.9883, 0.1514], [-0.7256, 0.0, 1.0, 1.0, 0.0, 0.0, -0.938, 0.3474], [-1.229, 0.7817, 0.6235, 1.0, 0.0, 0.0, -0.8486, 0.529], [-0.7256, 0.975, -0.2225, 1.0, 0.0, 0.0, -0.7246, 0.689], [-0.8516, 0.4338, -0.901, 1.0, 0.0, 0.0, -0.5713, 0.821], [-0.6, -0.4338, -0.901, 1.0, 0.0, 0.0, -0.3943, 0.919], [-0.4744, -0.975, -0.2225, 1.0, 0.0, 0.0, -0.2013, 0.9795], [-1.103, -0.7817, 0.6235, 1.0, 0.0, 0.0, -0.0, 1.0], [-1.3545, 0.0, 1.0, 0.866, -0.5, 0.0, 0.2013, 0.9795], [-0.977, 0.7817, 0.6235, 0.866, -0.5, 0.0, 0.3943, 0.919], [-0.0975, 0.975, -0.2225, 0.866, -0.5, 0.0, 0.5713, 0.821], [-0.7256, 0.4338, -0.901, 0.866, -0.5, 0.0, 0.7246, 0.689], [0.2795, -0.4338, -0.901, 0.866, -0.5, 0.0, 0.8486, 0.529], [-0.977, -0.975, -0.2225, 0.866, -0.5, 0.0, 0.938, 0.3474], [0.6562, -0.7817, 0.6235, 0.866, -0.5, 0.0, 0.9883, 0.1514], [-1.605, 0.0, 1.0, 0.866, -0.5, 0.0, 0.9985, -0.05066], [-1.103, 0.7817, 0.6235, 0.866, -0.5, 0.0, 0.9683, -0.2507], [-0.3489, 0.975, -0.2225, 0.866, -0.5, 0.0, 0.898, -0.4404], [-1.4795, 0.4338, -0.901, 0.866, -0.5, 0.0, 0.791, -0.6123], [-0.7256, -0.4338, -0.901, 0.866, -0.5, 0.0, 0.6514, -0.759], [0.4053, -0.975, -0.2225, 0.866, -0.5, 0.0, 0.4854, -0.8745], ...]   \n",
      "4  [[-1.731, -0.975, -0.2225, 0.5, 0.866, 0.0, 0.8486, 0.529], [-1.856, -0.7817, 0.6235, 0.5, 0.866, 0.0, 0.938, 0.3474], [-1.731, 0.0, 1.0, 0.5, 0.866, 0.0, 0.9883, 0.1514], [-0.8516, 0.7817, 0.6235, 0.5, 0.866, 0.0, 0.9985, -0.05066], [-1.982, 0.975, -0.2225, 0.5, 0.866, 0.0, 0.9683, -0.2507], [-1.103, 0.4338, -0.901, 0.5, 0.866, 0.0, 0.898, -0.4404], [-0.7256, -0.4338, -0.901, 0.5, 0.866, 0.0, 0.791, -0.6123], [-0.977, -0.975, -0.2225, 0.5, 0.866, 0.0, 0.6514, -0.759], [-0.6, -0.7817, 0.6235, 0.5, 0.866, 0.0, 0.4854, -0.8745], [-1.982, 0.0, 1.0, 0.5, 0.866, 0.0, 0.2993, -0.954], [-1.605, 0.7817, 0.6235, 0.5, 0.866, 0.0, 0.1012, -0.9946], [-1.856, 0.975, -0.2225, 0.5, 0.866, 0.0, -0.1012, -0.9946], [-1.3545, 0.4338, -0.901, 0.5, 0.866, 0.0, -0.2993, -0.954], [-1.103, -0.4338, -0.901, 0.5, 0.866, 0.0, -0.4854, -0.8745], [-0.977, -0.975, -0.2225, 0.5, 0.866, 0.0, -0.6514, -0.759], [-0.8516, -0.7817, 0.6235, 0.5, 0.866, 0.0, -0.791, -0.6123], [-1.982, 0.0, 1.0, 0.5, 0.866, 0.0, -0.898, -0.4404], [-2.36, 0.7817, 0.6235, 0.5, 0.866, 0.0, -0.9683, -0.2507], [-0.7256, 0.975, -0.2225, 0.5, 0.866, 0.0, -0.9985, -0.05066], [-1.731, 0.4338, -0.901, 0.5, 0.866, 0.0, -0.9883, 0.1514], [-0.6, -0.4338, -0.901, 0.5, 0.866, 0.0, -0.938, 0.3474], [-1.605, -0.975, -0.2225, 0.5, 0.866, 0.0, -0.8486, 0.529], [-1.731, -0.7817, 0.6235, 0.5, 0.866, 0.0, -0.7246, 0.689], [-1.731, 0.0, 1.0, 0.5, 0.866, 0.0, -0.5713, 0.821], [-1.4795, 0.7817, 0.6235, 0.5, 0.866, 0.0, -0.3943, 0.919], [-1.103, 0.975, -0.2225, 0.5, 0.866, 0.0, -0.2013, 0.9795], [-2.611, 0.4338, -0.901, 0.5, 0.866, 0.0, -0.0, 1.0], [-0.6, -0.4338, -0.901, 0.866, 0.5, 0.0, 0.2013, 0.9795], [-1.856, -0.975, -0.2225, 0.866, 0.5, 0.0, 0.3943, 0.919], [-0.7256, -0.7817, 0.6235, 0.866, 0.5, 0.0, 0.5713, 0.821], [-1.856, 0.0, 1.0, 0.866, 0.5, 0.0, 0.7246, 0.689], [-1.982, 0.7817, 0.6235, 0.866, 0.5, 0.0, 0.8486, 0.529], [-1.3545, 0.975, -0.2225, 0.866, 0.5, 0.0, 0.938, 0.3474], [-1.229, 0.4338, -0.901, 0.866, 0.5, 0.0, 0.9883, 0.1514], [-2.234, -0.4338, -0.901, 0.866, 0.5, 0.0, 0.9985, -0.05066], [-1.103, -0.975, -0.2225, 0.866, 0.5, 0.0, 0.9683, -0.2507], [-0.8516, -0.7817, 0.6235, 0.866, 0.5, 0.0, 0.898, -0.4404], [-1.605, 0.0, 1.0, 0.866, 0.5, 0.0, 0.791, -0.6123], [-1.229, 0.7817, 0.6235, 0.866, 0.5, 0.0, 0.6514, -0.759], [-1.3545, 0.975, -0.2225, 0.866, 0.5, 0.0, 0.4854, -0.8745], [-1.4795, 0.4338, -0.901, 0.866, 0.5, 0.0, 0.2993, -0.954], [-1.856, -0.4338, -0.901, 0.866, 0.5, 0.0, 0.1012, -0.9946], [-1.229, -0.975, -0.2225, 0.866, 0.5, 0.0, -0.1012, -0.9946], [-0.6, -0.7817, 0.6235, 0.866, 0.5, 0.0, -0.2993, -0.954], [-0.8516, 0.0, 1.0, 0.866, 0.5, 0.0, -0.4854, -0.8745], [-1.229, 0.7817, 0.6235, 0.866, 0.5, 0.0, -0.6514, -0.759], [-0.977, 0.975, -0.2225, 0.866, 0.5, 0.0, -0.791, -0.6123], [-0.8516, 0.4338, -0.901, 0.866, 0.5, 0.0, -0.898, -0.4404], [-0.977, -0.4338, -0.901, 0.866, 0.5, 0.0, -0.9683, -0.2507], [-0.6, -0.975, -0.2225, 0.866, 0.5, 0.0, -0.9985, -0.05066], [0.531, -0.7817, 0.6235, 0.866, 0.5, 0.0, -0.9883, 0.1514], [-1.3545, 0.0, 1.0, 0.866, 0.5, 0.0, -0.938, 0.3474], [-1.103, 0.7817, 0.6235, 0.866, 0.5, 0.0, -0.8486, 0.529], [-1.229, 0.975, -0.2225, 0.866, 0.5, 0.0, -0.7246, 0.689], [0.02821, 0.4338, -0.901, 0.866, 0.5, 0.0, -0.5713, 0.821], [0.4053, -0.4338, -0.901, 1.0, 0.0, 0.0, 0.2013, 0.9795], [-1.103, -0.975, -0.2225, 1.0, 0.0, 0.0, 0.3943, 0.919], [-0.0975, -0.7817, 0.6235, 1.0, 0.0, 0.0, 0.5713, 0.821], [-1.229, 0.0, 1.0, 1.0, 0.0, 0.0, 0.7246, 0.689], [-0.977, 0.7817, 0.6235, 1.0, 0.0, 0.0, 0.8486, 0.529], [-1.4795, 0.975, -0.2225, 1.0, 0.0, 0.0, 0.938, 0.3474], [-0.2231, 0.4338, -0.901, 1.0, 0.0, 0.0, 0.9883, 0.1514], [-0.3489, -0.4338, -0.901, 1.0, 0.0, 0.0, 0.9985, -0.05066], [-1.3545, -0.975, -0.2225, 1.0, 0.0, 0.0, 0.9683, -0.2507], [0.2795, -0.7817, 0.6235, 1.0, 0.0, 0.0, 0.898, -0.4404], [-2.234, 0.0, 1.0, 1.0, 0.0, 0.0, 0.791, -0.6123], [-0.2231, 0.7817, 0.6235, 1.0, 0.0, 0.0, 0.6514, -0.759], [-1.3545, 0.975, -0.2225, 1.0, 0.0, 0.0, 0.4854, -0.8745], [-1.4795, 0.4338, -0.901, 1.0, 0.0, 0.0, 0.2993, -0.954], [-1.3545, -0.4338, -0.901, 1.0, 0.0, 0.0, 0.1012, -0.9946], [-0.6, -0.975, -0.2225, 1.0, 0.0, 0.0, -0.1012, -0.9946], [-1.982, -0.7817, 0.6235, 1.0, 0.0, 0.0, -0.2993, -0.954], [-0.2231, 0.0, 1.0, 1.0, 0.0, 0.0, -0.4854, -0.8745], [-1.3545, 0.7817, 0.6235, 1.0, 0.0, 0.0, -0.6514, -0.759], [-0.4744, 0.975, -0.2225, 1.0, 0.0, 0.0, -0.791, -0.6123], [-0.7256, 0.4338, -0.901, 1.0, 0.0, 0.0, -0.898, -0.4404], [-1.3545, -0.4338, -0.901, 1.0, 0.0, 0.0, -0.9683, -0.2507], [-1.4795, -0.975, -0.2225, 1.0, 0.0, 0.0, -0.9985, -0.05066], [-0.977, -0.7817, 0.6235, 1.0, 0.0, 0.0, -0.9883, 0.1514], [-0.7256, 0.0, 1.0, 1.0, 0.0, 0.0, -0.938, 0.3474], [-1.229, 0.7817, 0.6235, 1.0, 0.0, 0.0, -0.8486, 0.529], [-0.7256, 0.975, -0.2225, 1.0, 0.0, 0.0, -0.7246, 0.689], [-0.8516, 0.4338, -0.901, 1.0, 0.0, 0.0, -0.5713, 0.821], [-0.6, -0.4338, -0.901, 1.0, 0.0, 0.0, -0.3943, 0.919], [-0.4744, -0.975, -0.2225, 1.0, 0.0, 0.0, -0.2013, 0.9795], [-1.103, -0.7817, 0.6235, 1.0, 0.0, 0.0, -0.0, 1.0], [-1.3545, 0.0, 1.0, 0.866, -0.5, 0.0, 0.2013, 0.9795], [-0.977, 0.7817, 0.6235, 0.866, -0.5, 0.0, 0.3943, 0.919], [-0.0975, 0.975, -0.2225, 0.866, -0.5, 0.0, 0.5713, 0.821], [-0.7256, 0.4338, -0.901, 0.866, -0.5, 0.0, 0.7246, 0.689], [0.2795, -0.4338, -0.901, 0.866, -0.5, 0.0, 0.8486, 0.529], [-0.977, -0.975, -0.2225, 0.866, -0.5, 0.0, 0.938, 0.3474], [0.6562, -0.7817, 0.6235, 0.866, -0.5, 0.0, 0.9883, 0.1514], [-1.605, 0.0, 1.0, 0.866, -0.5, 0.0, 0.9985, -0.05066], [-1.103, 0.7817, 0.6235, 0.866, -0.5, 0.0, 0.9683, -0.2507], [-0.3489, 0.975, -0.2225, 0.866, -0.5, 0.0, 0.898, -0.4404], [-1.4795, 0.4338, -0.901, 0.866, -0.5, 0.0, 0.791, -0.6123], [-0.7256, -0.4338, -0.901, 0.866, -0.5, 0.0, 0.6514, -0.759], [0.4053, -0.975, -0.2225, 0.866, -0.5, 0.0, 0.4854, -0.8745], [0.2795, -0.7817, 0.6235, 0.866, -0.5, 0.0, 0.2993, -0.954], ...]   \n",
      "\n",
      "                                                                                                                                                                                                                                                                                                                                                                                                                                                                                                                                                                                                                                                                                                                                                                                                                                                                                                                                                                                                                                                                                                                                                                                                                                                                                                                                                                                                                                                                                                                                                                                                                                                                                                                                                                                                                                                                                                                                                                                                                                                                                                                                                                                                                                                                                                                                                                                                                                                                                                                                                                                                                                                                                                                                                                                                                                                                                                                                                                                                                                                                                                                                                                                                                                                                                                                                                                                                                                                                                                                                                                                                                                                                                                                                                                                                                                                                                                                                                                                                                                                                                                                                                                                                                                                                                                                                                                                                                                                                                                                                                                                                                                                                                                                                                                                                                                                                                                                                                                                                                                                                                                                                                                                                                                                                                                                                                                                                                                                                                                                                                                                                                                                                                                                                                                                                                                                                                                                                                                                                                                                                                                                                                y_sequence  \\\n",
      "0          [[0.2795, -0.7817, 0.6235, 0.0, -1.0, 0.0, -0.2013, 0.9795, nan], [-0.6, 0.0, 1.0, -0.5, -0.866, 0.0, 0.2013, 0.9795, nan], [-0.0975, 0.7817, 0.6235, -0.5, -0.866, 0.0, 0.3943, 0.919, nan], [-0.0975, 0.975, -0.2225, -0.5, -0.866, 0.0, 0.5713, 0.821, nan], [-0.4744, 0.4338, -0.901, -0.5, -0.866, 0.0, 0.7246, 0.689, nan], [0.02821, -0.4338, -0.901, -0.5, -0.866, 0.0, 0.8486, 0.529, nan], [0.9077, -0.975, -0.2225, -0.5, -0.866, 0.0, 0.938, 0.3474, nan], [0.2795, -0.7817, 0.6235, -0.5, -0.866, 0.0, 0.9883, 0.1514, nan], [-0.4744, 0.0, 1.0, -0.5, -0.866, 0.0, 0.9985, -0.05066, nan], [-0.3489, 0.7817, 0.6235, -0.5, -0.866, 0.0, 0.9683, -0.2507, nan], [-0.7256, 0.975, -0.2225, -0.5, -0.866, 0.0, 0.898, -0.4404, nan], [-0.0975, 0.4338, -0.901, -0.5, -0.866, 0.0, 0.791, -0.6123, nan], [-0.8516, -0.4338, -0.901, -0.5, -0.866, 0.0, 0.6514, -0.759, nan], [1.033, -0.975, -0.2225, -0.5, -0.866, 0.0, 0.4854, -0.8745, nan], [1.033, -0.7817, 0.6235, -0.5, -0.866, 0.0, 0.2993, -0.954, nan], [-0.3489, 0.0, 1.0, -0.5, -0.866, 0.0, 0.1012, -0.9946, nan], [-0.2231, 0.7817, 0.6235, -0.5, -0.866, 0.0, -0.1012, -0.9946, nan], [0.782, 0.975, -0.2225, -0.5, -0.866, 0.0, -0.2993, -0.954, nan], [0.531, 0.4338, -0.901, -0.5, -0.866, 0.0, -0.4854, -0.8745, nan], [1.159, -0.4338, -0.901, -0.5, -0.866, 0.0, -0.6514, -0.759, nan], [1.033, -0.975, -0.2225, -0.5, -0.866, 0.0, -0.791, -0.6123, nan], [0.531, -0.7817, 0.6235, -0.5, -0.866, 0.0, -0.898, -0.4404, nan], [-0.4744, 0.0, 1.0, -0.5, -0.866, 0.0, -0.9683, -0.2507, nan], [0.02821, 0.7817, 0.6235, -0.5, -0.866, 0.0, -0.9985, -0.05066, nan], [-0.4744, 0.975, -0.2225, -0.5, -0.866, 0.0, -0.9883, 0.1514, nan], [-0.3489, 0.4338, -0.901, -0.5, -0.866, 0.0, -0.938, 0.3474, nan], [0.6562, -0.4338, -0.901, -0.5, -0.866, 0.0, -0.8486, 0.529, nan], [-0.2231, -0.975, -0.2225, -0.5, -0.866, 0.0, -0.7246, 0.689, nan], [0.2795, -0.7817, 0.6235, -0.5, -0.866, 0.0, -0.5713, 0.821, nan], [-0.4744, 0.0, 1.0, -0.5, -0.866, 0.0, -0.3943, 0.919, nan], [-1.4795, 0.7817, 0.6235, -0.5, -0.866, 0.0, -0.2013, 0.9795, nan], [0.4053, 0.975, -0.2225, -0.5, -0.866, 0.0, -0.0, 1.0, nan], [0.2795, 0.4338, -0.901, -0.866, -0.5, 0.0, 0.2013, 0.9795, nan], [-0.0975, -0.4338, -0.901, -0.866, -0.5, 0.0, 0.3943, 0.919, nan], [-0.4744, -0.975, -0.2225, -0.866, -0.5, 0.0, 0.5713, 0.821, nan], [0.2795, -0.7817, 0.6235, -0.866, -0.5, 0.0, 0.7246, 0.689, nan], [0.2795, 0.0, 1.0, -0.866, -0.5, 0.0, 0.8486, 0.529, nan], [-1.4795, 0.7817, 0.6235, -0.866, -0.5, 0.0, 0.938, 0.3474, nan], [-0.2231, 0.975, -0.2225, -0.866, -0.5, 0.0, 0.9883, 0.1514, nan], [-0.977, 0.4338, -0.901, -0.866, -0.5, 0.0, 0.9985, -0.05066, nan], [-0.4744, -0.4338, -0.901, -0.866, -0.5, 0.0, 0.9683, -0.2507, nan], [0.02821, -0.975, -0.2225, -0.866, -0.5, 0.0, 0.898, -0.4404, nan], [-0.8516, -0.7817, 0.6235, -0.866, -0.5, 0.0, 0.791, -0.6123, nan], [-1.103, 0.0, 1.0, -0.866, -0.5, 0.0, 0.6514, -0.759, nan], [0.02821, 0.7817, 0.6235, -0.866, -0.5, 0.0, 0.4854, -0.8745, nan], [1.033, 0.975, -0.2225, -0.866, -0.5, 0.0, 0.2993, -0.954, nan], [-0.4744, 0.4338, -0.901, -0.866, -0.5, 0.0, 0.1012, -0.9946, nan], [-0.977, -0.4338, -0.901, -0.866, -0.5, 0.0, -0.1012, -0.9946, nan], [-0.0975, -0.975, -0.2225, -0.866, -0.5, 0.0, -0.2993, -0.954, nan], [0.531, -0.7817, 0.6235, -0.866, -0.5, 0.0, -0.4854, -0.8745, nan], [-1.103, 0.0, 1.0, -0.866, -0.5, 0.0, -0.6514, -0.759, nan], [-0.7256, 0.7817, 0.6235, -0.866, -0.5, 0.0, -0.791, -0.6123, nan], [-0.4744, 0.975, -0.2225, -0.866, -0.5, 0.0, -0.898, -0.4404, nan], [-0.0975, 0.4338, -0.901, -0.866, -0.5, 0.0, -0.9683, -0.2507, nan], [0.1538, -0.4338, -0.901, -0.866, -0.5, 0.0, -0.9985, -0.05066, nan], [0.531, -0.975, -0.2225, -0.866, -0.5, 0.0, -0.9883, 0.1514, nan], [0.9077, -0.7817, 0.6235, -0.866, -0.5, 0.0, -0.938, 0.3474, nan], [-1.605, 0.0, 1.0, -0.866, -0.5, 0.0, -0.8486, 0.529, nan], [-0.6, 0.7817, 0.6235, -0.866, -0.5, 0.0, -0.7246, 0.689, nan], [-0.4744, 0.975, -0.2225, -0.866, -0.5, 0.0, -0.5713, 0.821, nan], [-0.3489, 0.4338, -0.901, -0.866, -0.5, 0.0, -0.3943, 0.919, nan], [0.531, -0.4338, -0.901, -0.866, -0.5, 0.0, -0.2013, 0.9795, nan], [-0.7256, -0.975, -0.2225, -0.866, -0.5, 0.0, -0.0, 1.0, nan], [0.1538, -0.7817, 0.6235, -1.0, -0.0, 0.0, 0.2013, 0.9795, nan], [-1.3545, 0.0, 1.0, -1.0, -0.0, 0.0, 0.3943, 0.919, nan], [-0.4744, 0.7817, 0.6235, -1.0, -0.0, 0.0, 0.5713, 0.821, nan], [-0.977, 0.975, -0.2225, -1.0, -0.0, 0.0, 0.7246, 0.689, nan], [0.531, 0.4338, -0.901, -1.0, -0.0, 0.0, 0.8486, 0.529, nan], [-0.7256, -0.4338, -0.901, -1.0, -0.0, 0.0, 0.938, 0.3474, nan], [-0.977, -0.975, -0.2225, -1.0, -0.0, 0.0, 0.9883, 0.1514, nan], [0.02821, -0.7817, 0.6235, -1.0, -0.0, 0.0, 0.9985, -0.05066, nan], [-0.7256, 0.0, 1.0, -1.0, -0.0, 0.0, 0.9683, -0.2507, nan], [-0.6, 0.7817, 0.6235, -1.0, -0.0, 0.0, 0.898, -0.4404, nan], [-1.229, 0.975, -0.2225, -1.0, -0.0, 0.0, 0.791, -0.6123, nan], [-1.229, 0.4338, -0.901, -1.0, -0.0, 0.0, 0.6514, -0.759, nan], [-0.0975, -0.4338, -0.901, -1.0, -0.0, 0.0, 0.4854, -0.8745, nan], [-1.605, -0.975, -0.2225, -1.0, -0.0, 0.0, 0.2993, -0.954, nan], [-0.3489, -0.7817, 0.6235, -1.0, -0.0, 0.0, 0.1012, -0.9946, nan], [-1.856, 0.0, 1.0, -1.0, -0.0, 0.0, -0.1012, -0.9946, nan], [-1.103, 0.7817, 0.6235, -1.0, -0.0, 0.0, -0.2993, -0.954, nan], [-0.977, 0.975, -0.2225, -1.0, -0.0, 0.0, -0.4854, -0.8745, nan], [-0.3489, 0.4338, -0.901, -1.0, -0.0, 0.0, -0.6514, -0.759, nan], [-0.6, -0.4338, -0.901, -1.0, -0.0, 0.0, -0.791, -0.6123, nan], [1.536, -0.975, -0.2225, -1.0, -0.0, 0.0, -0.898, -0.4404, nan], [0.1538, -0.7817, 0.6235, -1.0, -0.0, 0.0, -0.9683, -0.2507, nan], [0.1538, 0.0, 1.0, -1.0, -0.0, 0.0, -0.9985, -0.05066, nan], [-0.0975, 0.7817, 0.6235, -1.0, -0.0, 0.0, -0.9883, 0.1514, nan], [-0.7256, 0.975, -0.2225, -1.0, -0.0, 0.0, -0.938, 0.3474, nan], [-0.2231, 0.4338, -0.901, -1.0, -0.0, 0.0, -0.8486, 0.529, nan], [-0.2231, -0.4338, -0.901, -1.0, -0.0, 0.0, -0.7246, 0.689, nan]]   \n",
      "1          [[-0.6, 0.0, 1.0, -0.5, -0.866, 0.0, 0.2013, 0.9795, nan], [-0.0975, 0.7817, 0.6235, -0.5, -0.866, 0.0, 0.3943, 0.919, nan], [-0.0975, 0.975, -0.2225, -0.5, -0.866, 0.0, 0.5713, 0.821, nan], [-0.4744, 0.4338, -0.901, -0.5, -0.866, 0.0, 0.7246, 0.689, nan], [0.02821, -0.4338, -0.901, -0.5, -0.866, 0.0, 0.8486, 0.529, nan], [0.9077, -0.975, -0.2225, -0.5, -0.866, 0.0, 0.938, 0.3474, nan], [0.2795, -0.7817, 0.6235, -0.5, -0.866, 0.0, 0.9883, 0.1514, nan], [-0.4744, 0.0, 1.0, -0.5, -0.866, 0.0, 0.9985, -0.05066, nan], [-0.3489, 0.7817, 0.6235, -0.5, -0.866, 0.0, 0.9683, -0.2507, nan], [-0.7256, 0.975, -0.2225, -0.5, -0.866, 0.0, 0.898, -0.4404, nan], [-0.0975, 0.4338, -0.901, -0.5, -0.866, 0.0, 0.791, -0.6123, nan], [-0.8516, -0.4338, -0.901, -0.5, -0.866, 0.0, 0.6514, -0.759, nan], [1.033, -0.975, -0.2225, -0.5, -0.866, 0.0, 0.4854, -0.8745, nan], [1.033, -0.7817, 0.6235, -0.5, -0.866, 0.0, 0.2993, -0.954, nan], [-0.3489, 0.0, 1.0, -0.5, -0.866, 0.0, 0.1012, -0.9946, nan], [-0.2231, 0.7817, 0.6235, -0.5, -0.866, 0.0, -0.1012, -0.9946, nan], [0.782, 0.975, -0.2225, -0.5, -0.866, 0.0, -0.2993, -0.954, nan], [0.531, 0.4338, -0.901, -0.5, -0.866, 0.0, -0.4854, -0.8745, nan], [1.159, -0.4338, -0.901, -0.5, -0.866, 0.0, -0.6514, -0.759, nan], [1.033, -0.975, -0.2225, -0.5, -0.866, 0.0, -0.791, -0.6123, nan], [0.531, -0.7817, 0.6235, -0.5, -0.866, 0.0, -0.898, -0.4404, nan], [-0.4744, 0.0, 1.0, -0.5, -0.866, 0.0, -0.9683, -0.2507, nan], [0.02821, 0.7817, 0.6235, -0.5, -0.866, 0.0, -0.9985, -0.05066, nan], [-0.4744, 0.975, -0.2225, -0.5, -0.866, 0.0, -0.9883, 0.1514, nan], [-0.3489, 0.4338, -0.901, -0.5, -0.866, 0.0, -0.938, 0.3474, nan], [0.6562, -0.4338, -0.901, -0.5, -0.866, 0.0, -0.8486, 0.529, nan], [-0.2231, -0.975, -0.2225, -0.5, -0.866, 0.0, -0.7246, 0.689, nan], [0.2795, -0.7817, 0.6235, -0.5, -0.866, 0.0, -0.5713, 0.821, nan], [-0.4744, 0.0, 1.0, -0.5, -0.866, 0.0, -0.3943, 0.919, nan], [-1.4795, 0.7817, 0.6235, -0.5, -0.866, 0.0, -0.2013, 0.9795, nan], [0.4053, 0.975, -0.2225, -0.5, -0.866, 0.0, -0.0, 1.0, nan], [0.2795, 0.4338, -0.901, -0.866, -0.5, 0.0, 0.2013, 0.9795, nan], [-0.0975, -0.4338, -0.901, -0.866, -0.5, 0.0, 0.3943, 0.919, nan], [-0.4744, -0.975, -0.2225, -0.866, -0.5, 0.0, 0.5713, 0.821, nan], [0.2795, -0.7817, 0.6235, -0.866, -0.5, 0.0, 0.7246, 0.689, nan], [0.2795, 0.0, 1.0, -0.866, -0.5, 0.0, 0.8486, 0.529, nan], [-1.4795, 0.7817, 0.6235, -0.866, -0.5, 0.0, 0.938, 0.3474, nan], [-0.2231, 0.975, -0.2225, -0.866, -0.5, 0.0, 0.9883, 0.1514, nan], [-0.977, 0.4338, -0.901, -0.866, -0.5, 0.0, 0.9985, -0.05066, nan], [-0.4744, -0.4338, -0.901, -0.866, -0.5, 0.0, 0.9683, -0.2507, nan], [0.02821, -0.975, -0.2225, -0.866, -0.5, 0.0, 0.898, -0.4404, nan], [-0.8516, -0.7817, 0.6235, -0.866, -0.5, 0.0, 0.791, -0.6123, nan], [-1.103, 0.0, 1.0, -0.866, -0.5, 0.0, 0.6514, -0.759, nan], [0.02821, 0.7817, 0.6235, -0.866, -0.5, 0.0, 0.4854, -0.8745, nan], [1.033, 0.975, -0.2225, -0.866, -0.5, 0.0, 0.2993, -0.954, nan], [-0.4744, 0.4338, -0.901, -0.866, -0.5, 0.0, 0.1012, -0.9946, nan], [-0.977, -0.4338, -0.901, -0.866, -0.5, 0.0, -0.1012, -0.9946, nan], [-0.0975, -0.975, -0.2225, -0.866, -0.5, 0.0, -0.2993, -0.954, nan], [0.531, -0.7817, 0.6235, -0.866, -0.5, 0.0, -0.4854, -0.8745, nan], [-1.103, 0.0, 1.0, -0.866, -0.5, 0.0, -0.6514, -0.759, nan], [-0.7256, 0.7817, 0.6235, -0.866, -0.5, 0.0, -0.791, -0.6123, nan], [-0.4744, 0.975, -0.2225, -0.866, -0.5, 0.0, -0.898, -0.4404, nan], [-0.0975, 0.4338, -0.901, -0.866, -0.5, 0.0, -0.9683, -0.2507, nan], [0.1538, -0.4338, -0.901, -0.866, -0.5, 0.0, -0.9985, -0.05066, nan], [0.531, -0.975, -0.2225, -0.866, -0.5, 0.0, -0.9883, 0.1514, nan], [0.9077, -0.7817, 0.6235, -0.866, -0.5, 0.0, -0.938, 0.3474, nan], [-1.605, 0.0, 1.0, -0.866, -0.5, 0.0, -0.8486, 0.529, nan], [-0.6, 0.7817, 0.6235, -0.866, -0.5, 0.0, -0.7246, 0.689, nan], [-0.4744, 0.975, -0.2225, -0.866, -0.5, 0.0, -0.5713, 0.821, nan], [-0.3489, 0.4338, -0.901, -0.866, -0.5, 0.0, -0.3943, 0.919, nan], [0.531, -0.4338, -0.901, -0.866, -0.5, 0.0, -0.2013, 0.9795, nan], [-0.7256, -0.975, -0.2225, -0.866, -0.5, 0.0, -0.0, 1.0, nan], [0.1538, -0.7817, 0.6235, -1.0, -0.0, 0.0, 0.2013, 0.9795, nan], [-1.3545, 0.0, 1.0, -1.0, -0.0, 0.0, 0.3943, 0.919, nan], [-0.4744, 0.7817, 0.6235, -1.0, -0.0, 0.0, 0.5713, 0.821, nan], [-0.977, 0.975, -0.2225, -1.0, -0.0, 0.0, 0.7246, 0.689, nan], [0.531, 0.4338, -0.901, -1.0, -0.0, 0.0, 0.8486, 0.529, nan], [-0.7256, -0.4338, -0.901, -1.0, -0.0, 0.0, 0.938, 0.3474, nan], [-0.977, -0.975, -0.2225, -1.0, -0.0, 0.0, 0.9883, 0.1514, nan], [0.02821, -0.7817, 0.6235, -1.0, -0.0, 0.0, 0.9985, -0.05066, nan], [-0.7256, 0.0, 1.0, -1.0, -0.0, 0.0, 0.9683, -0.2507, nan], [-0.6, 0.7817, 0.6235, -1.0, -0.0, 0.0, 0.898, -0.4404, nan], [-1.229, 0.975, -0.2225, -1.0, -0.0, 0.0, 0.791, -0.6123, nan], [-1.229, 0.4338, -0.901, -1.0, -0.0, 0.0, 0.6514, -0.759, nan], [-0.0975, -0.4338, -0.901, -1.0, -0.0, 0.0, 0.4854, -0.8745, nan], [-1.605, -0.975, -0.2225, -1.0, -0.0, 0.0, 0.2993, -0.954, nan], [-0.3489, -0.7817, 0.6235, -1.0, -0.0, 0.0, 0.1012, -0.9946, nan], [-1.856, 0.0, 1.0, -1.0, -0.0, 0.0, -0.1012, -0.9946, nan], [-1.103, 0.7817, 0.6235, -1.0, -0.0, 0.0, -0.2993, -0.954, nan], [-0.977, 0.975, -0.2225, -1.0, -0.0, 0.0, -0.4854, -0.8745, nan], [-0.3489, 0.4338, -0.901, -1.0, -0.0, 0.0, -0.6514, -0.759, nan], [-0.6, -0.4338, -0.901, -1.0, -0.0, 0.0, -0.791, -0.6123, nan], [1.536, -0.975, -0.2225, -1.0, -0.0, 0.0, -0.898, -0.4404, nan], [0.1538, -0.7817, 0.6235, -1.0, -0.0, 0.0, -0.9683, -0.2507, nan], [0.1538, 0.0, 1.0, -1.0, -0.0, 0.0, -0.9985, -0.05066, nan], [-0.0975, 0.7817, 0.6235, -1.0, -0.0, 0.0, -0.9883, 0.1514, nan], [-0.7256, 0.975, -0.2225, -1.0, -0.0, 0.0, -0.938, 0.3474, nan], [-0.2231, 0.4338, -0.901, -1.0, -0.0, 0.0, -0.8486, 0.529, nan], [-0.2231, -0.4338, -0.901, -1.0, -0.0, 0.0, -0.7246, 0.689, nan], [0.1538, -0.975, -0.2225, -1.0, -0.0, 0.0, -0.5713, 0.821, nan]]   \n",
      "2  [[-0.0975, 0.7817, 0.6235, -0.5, -0.866, 0.0, 0.3943, 0.919, nan], [-0.0975, 0.975, -0.2225, -0.5, -0.866, 0.0, 0.5713, 0.821, nan], [-0.4744, 0.4338, -0.901, -0.5, -0.866, 0.0, 0.7246, 0.689, nan], [0.02821, -0.4338, -0.901, -0.5, -0.866, 0.0, 0.8486, 0.529, nan], [0.9077, -0.975, -0.2225, -0.5, -0.866, 0.0, 0.938, 0.3474, nan], [0.2795, -0.7817, 0.6235, -0.5, -0.866, 0.0, 0.9883, 0.1514, nan], [-0.4744, 0.0, 1.0, -0.5, -0.866, 0.0, 0.9985, -0.05066, nan], [-0.3489, 0.7817, 0.6235, -0.5, -0.866, 0.0, 0.9683, -0.2507, nan], [-0.7256, 0.975, -0.2225, -0.5, -0.866, 0.0, 0.898, -0.4404, nan], [-0.0975, 0.4338, -0.901, -0.5, -0.866, 0.0, 0.791, -0.6123, nan], [-0.8516, -0.4338, -0.901, -0.5, -0.866, 0.0, 0.6514, -0.759, nan], [1.033, -0.975, -0.2225, -0.5, -0.866, 0.0, 0.4854, -0.8745, nan], [1.033, -0.7817, 0.6235, -0.5, -0.866, 0.0, 0.2993, -0.954, nan], [-0.3489, 0.0, 1.0, -0.5, -0.866, 0.0, 0.1012, -0.9946, nan], [-0.2231, 0.7817, 0.6235, -0.5, -0.866, 0.0, -0.1012, -0.9946, nan], [0.782, 0.975, -0.2225, -0.5, -0.866, 0.0, -0.2993, -0.954, nan], [0.531, 0.4338, -0.901, -0.5, -0.866, 0.0, -0.4854, -0.8745, nan], [1.159, -0.4338, -0.901, -0.5, -0.866, 0.0, -0.6514, -0.759, nan], [1.033, -0.975, -0.2225, -0.5, -0.866, 0.0, -0.791, -0.6123, nan], [0.531, -0.7817, 0.6235, -0.5, -0.866, 0.0, -0.898, -0.4404, nan], [-0.4744, 0.0, 1.0, -0.5, -0.866, 0.0, -0.9683, -0.2507, nan], [0.02821, 0.7817, 0.6235, -0.5, -0.866, 0.0, -0.9985, -0.05066, nan], [-0.4744, 0.975, -0.2225, -0.5, -0.866, 0.0, -0.9883, 0.1514, nan], [-0.3489, 0.4338, -0.901, -0.5, -0.866, 0.0, -0.938, 0.3474, nan], [0.6562, -0.4338, -0.901, -0.5, -0.866, 0.0, -0.8486, 0.529, nan], [-0.2231, -0.975, -0.2225, -0.5, -0.866, 0.0, -0.7246, 0.689, nan], [0.2795, -0.7817, 0.6235, -0.5, -0.866, 0.0, -0.5713, 0.821, nan], [-0.4744, 0.0, 1.0, -0.5, -0.866, 0.0, -0.3943, 0.919, nan], [-1.4795, 0.7817, 0.6235, -0.5, -0.866, 0.0, -0.2013, 0.9795, nan], [0.4053, 0.975, -0.2225, -0.5, -0.866, 0.0, -0.0, 1.0, nan], [0.2795, 0.4338, -0.901, -0.866, -0.5, 0.0, 0.2013, 0.9795, nan], [-0.0975, -0.4338, -0.901, -0.866, -0.5, 0.0, 0.3943, 0.919, nan], [-0.4744, -0.975, -0.2225, -0.866, -0.5, 0.0, 0.5713, 0.821, nan], [0.2795, -0.7817, 0.6235, -0.866, -0.5, 0.0, 0.7246, 0.689, nan], [0.2795, 0.0, 1.0, -0.866, -0.5, 0.0, 0.8486, 0.529, nan], [-1.4795, 0.7817, 0.6235, -0.866, -0.5, 0.0, 0.938, 0.3474, nan], [-0.2231, 0.975, -0.2225, -0.866, -0.5, 0.0, 0.9883, 0.1514, nan], [-0.977, 0.4338, -0.901, -0.866, -0.5, 0.0, 0.9985, -0.05066, nan], [-0.4744, -0.4338, -0.901, -0.866, -0.5, 0.0, 0.9683, -0.2507, nan], [0.02821, -0.975, -0.2225, -0.866, -0.5, 0.0, 0.898, -0.4404, nan], [-0.8516, -0.7817, 0.6235, -0.866, -0.5, 0.0, 0.791, -0.6123, nan], [-1.103, 0.0, 1.0, -0.866, -0.5, 0.0, 0.6514, -0.759, nan], [0.02821, 0.7817, 0.6235, -0.866, -0.5, 0.0, 0.4854, -0.8745, nan], [1.033, 0.975, -0.2225, -0.866, -0.5, 0.0, 0.2993, -0.954, nan], [-0.4744, 0.4338, -0.901, -0.866, -0.5, 0.0, 0.1012, -0.9946, nan], [-0.977, -0.4338, -0.901, -0.866, -0.5, 0.0, -0.1012, -0.9946, nan], [-0.0975, -0.975, -0.2225, -0.866, -0.5, 0.0, -0.2993, -0.954, nan], [0.531, -0.7817, 0.6235, -0.866, -0.5, 0.0, -0.4854, -0.8745, nan], [-1.103, 0.0, 1.0, -0.866, -0.5, 0.0, -0.6514, -0.759, nan], [-0.7256, 0.7817, 0.6235, -0.866, -0.5, 0.0, -0.791, -0.6123, nan], [-0.4744, 0.975, -0.2225, -0.866, -0.5, 0.0, -0.898, -0.4404, nan], [-0.0975, 0.4338, -0.901, -0.866, -0.5, 0.0, -0.9683, -0.2507, nan], [0.1538, -0.4338, -0.901, -0.866, -0.5, 0.0, -0.9985, -0.05066, nan], [0.531, -0.975, -0.2225, -0.866, -0.5, 0.0, -0.9883, 0.1514, nan], [0.9077, -0.7817, 0.6235, -0.866, -0.5, 0.0, -0.938, 0.3474, nan], [-1.605, 0.0, 1.0, -0.866, -0.5, 0.0, -0.8486, 0.529, nan], [-0.6, 0.7817, 0.6235, -0.866, -0.5, 0.0, -0.7246, 0.689, nan], [-0.4744, 0.975, -0.2225, -0.866, -0.5, 0.0, -0.5713, 0.821, nan], [-0.3489, 0.4338, -0.901, -0.866, -0.5, 0.0, -0.3943, 0.919, nan], [0.531, -0.4338, -0.901, -0.866, -0.5, 0.0, -0.2013, 0.9795, nan], [-0.7256, -0.975, -0.2225, -0.866, -0.5, 0.0, -0.0, 1.0, nan], [0.1538, -0.7817, 0.6235, -1.0, -0.0, 0.0, 0.2013, 0.9795, nan], [-1.3545, 0.0, 1.0, -1.0, -0.0, 0.0, 0.3943, 0.919, nan], [-0.4744, 0.7817, 0.6235, -1.0, -0.0, 0.0, 0.5713, 0.821, nan], [-0.977, 0.975, -0.2225, -1.0, -0.0, 0.0, 0.7246, 0.689, nan], [0.531, 0.4338, -0.901, -1.0, -0.0, 0.0, 0.8486, 0.529, nan], [-0.7256, -0.4338, -0.901, -1.0, -0.0, 0.0, 0.938, 0.3474, nan], [-0.977, -0.975, -0.2225, -1.0, -0.0, 0.0, 0.9883, 0.1514, nan], [0.02821, -0.7817, 0.6235, -1.0, -0.0, 0.0, 0.9985, -0.05066, nan], [-0.7256, 0.0, 1.0, -1.0, -0.0, 0.0, 0.9683, -0.2507, nan], [-0.6, 0.7817, 0.6235, -1.0, -0.0, 0.0, 0.898, -0.4404, nan], [-1.229, 0.975, -0.2225, -1.0, -0.0, 0.0, 0.791, -0.6123, nan], [-1.229, 0.4338, -0.901, -1.0, -0.0, 0.0, 0.6514, -0.759, nan], [-0.0975, -0.4338, -0.901, -1.0, -0.0, 0.0, 0.4854, -0.8745, nan], [-1.605, -0.975, -0.2225, -1.0, -0.0, 0.0, 0.2993, -0.954, nan], [-0.3489, -0.7817, 0.6235, -1.0, -0.0, 0.0, 0.1012, -0.9946, nan], [-1.856, 0.0, 1.0, -1.0, -0.0, 0.0, -0.1012, -0.9946, nan], [-1.103, 0.7817, 0.6235, -1.0, -0.0, 0.0, -0.2993, -0.954, nan], [-0.977, 0.975, -0.2225, -1.0, -0.0, 0.0, -0.4854, -0.8745, nan], [-0.3489, 0.4338, -0.901, -1.0, -0.0, 0.0, -0.6514, -0.759, nan], [-0.6, -0.4338, -0.901, -1.0, -0.0, 0.0, -0.791, -0.6123, nan], [1.536, -0.975, -0.2225, -1.0, -0.0, 0.0, -0.898, -0.4404, nan], [0.1538, -0.7817, 0.6235, -1.0, -0.0, 0.0, -0.9683, -0.2507, nan], [0.1538, 0.0, 1.0, -1.0, -0.0, 0.0, -0.9985, -0.05066, nan], [-0.0975, 0.7817, 0.6235, -1.0, -0.0, 0.0, -0.9883, 0.1514, nan], [-0.7256, 0.975, -0.2225, -1.0, -0.0, 0.0, -0.938, 0.3474, nan], [-0.2231, 0.4338, -0.901, -1.0, -0.0, 0.0, -0.8486, 0.529, nan], [-0.2231, -0.4338, -0.901, -1.0, -0.0, 0.0, -0.7246, 0.689, nan], [0.1538, -0.975, -0.2225, -1.0, -0.0, 0.0, -0.5713, 0.821, nan], [0.02821, -0.7817, 0.6235, -1.0, -0.0, 0.0, -0.3943, 0.919, nan]]   \n",
      "3         [[-0.0975, 0.975, -0.2225, -0.5, -0.866, 0.0, 0.5713, 0.821, nan], [-0.4744, 0.4338, -0.901, -0.5, -0.866, 0.0, 0.7246, 0.689, nan], [0.02821, -0.4338, -0.901, -0.5, -0.866, 0.0, 0.8486, 0.529, nan], [0.9077, -0.975, -0.2225, -0.5, -0.866, 0.0, 0.938, 0.3474, nan], [0.2795, -0.7817, 0.6235, -0.5, -0.866, 0.0, 0.9883, 0.1514, nan], [-0.4744, 0.0, 1.0, -0.5, -0.866, 0.0, 0.9985, -0.05066, nan], [-0.3489, 0.7817, 0.6235, -0.5, -0.866, 0.0, 0.9683, -0.2507, nan], [-0.7256, 0.975, -0.2225, -0.5, -0.866, 0.0, 0.898, -0.4404, nan], [-0.0975, 0.4338, -0.901, -0.5, -0.866, 0.0, 0.791, -0.6123, nan], [-0.8516, -0.4338, -0.901, -0.5, -0.866, 0.0, 0.6514, -0.759, nan], [1.033, -0.975, -0.2225, -0.5, -0.866, 0.0, 0.4854, -0.8745, nan], [1.033, -0.7817, 0.6235, -0.5, -0.866, 0.0, 0.2993, -0.954, nan], [-0.3489, 0.0, 1.0, -0.5, -0.866, 0.0, 0.1012, -0.9946, nan], [-0.2231, 0.7817, 0.6235, -0.5, -0.866, 0.0, -0.1012, -0.9946, nan], [0.782, 0.975, -0.2225, -0.5, -0.866, 0.0, -0.2993, -0.954, nan], [0.531, 0.4338, -0.901, -0.5, -0.866, 0.0, -0.4854, -0.8745, nan], [1.159, -0.4338, -0.901, -0.5, -0.866, 0.0, -0.6514, -0.759, nan], [1.033, -0.975, -0.2225, -0.5, -0.866, 0.0, -0.791, -0.6123, nan], [0.531, -0.7817, 0.6235, -0.5, -0.866, 0.0, -0.898, -0.4404, nan], [-0.4744, 0.0, 1.0, -0.5, -0.866, 0.0, -0.9683, -0.2507, nan], [0.02821, 0.7817, 0.6235, -0.5, -0.866, 0.0, -0.9985, -0.05066, nan], [-0.4744, 0.975, -0.2225, -0.5, -0.866, 0.0, -0.9883, 0.1514, nan], [-0.3489, 0.4338, -0.901, -0.5, -0.866, 0.0, -0.938, 0.3474, nan], [0.6562, -0.4338, -0.901, -0.5, -0.866, 0.0, -0.8486, 0.529, nan], [-0.2231, -0.975, -0.2225, -0.5, -0.866, 0.0, -0.7246, 0.689, nan], [0.2795, -0.7817, 0.6235, -0.5, -0.866, 0.0, -0.5713, 0.821, nan], [-0.4744, 0.0, 1.0, -0.5, -0.866, 0.0, -0.3943, 0.919, nan], [-1.4795, 0.7817, 0.6235, -0.5, -0.866, 0.0, -0.2013, 0.9795, nan], [0.4053, 0.975, -0.2225, -0.5, -0.866, 0.0, -0.0, 1.0, nan], [0.2795, 0.4338, -0.901, -0.866, -0.5, 0.0, 0.2013, 0.9795, nan], [-0.0975, -0.4338, -0.901, -0.866, -0.5, 0.0, 0.3943, 0.919, nan], [-0.4744, -0.975, -0.2225, -0.866, -0.5, 0.0, 0.5713, 0.821, nan], [0.2795, -0.7817, 0.6235, -0.866, -0.5, 0.0, 0.7246, 0.689, nan], [0.2795, 0.0, 1.0, -0.866, -0.5, 0.0, 0.8486, 0.529, nan], [-1.4795, 0.7817, 0.6235, -0.866, -0.5, 0.0, 0.938, 0.3474, nan], [-0.2231, 0.975, -0.2225, -0.866, -0.5, 0.0, 0.9883, 0.1514, nan], [-0.977, 0.4338, -0.901, -0.866, -0.5, 0.0, 0.9985, -0.05066, nan], [-0.4744, -0.4338, -0.901, -0.866, -0.5, 0.0, 0.9683, -0.2507, nan], [0.02821, -0.975, -0.2225, -0.866, -0.5, 0.0, 0.898, -0.4404, nan], [-0.8516, -0.7817, 0.6235, -0.866, -0.5, 0.0, 0.791, -0.6123, nan], [-1.103, 0.0, 1.0, -0.866, -0.5, 0.0, 0.6514, -0.759, nan], [0.02821, 0.7817, 0.6235, -0.866, -0.5, 0.0, 0.4854, -0.8745, nan], [1.033, 0.975, -0.2225, -0.866, -0.5, 0.0, 0.2993, -0.954, nan], [-0.4744, 0.4338, -0.901, -0.866, -0.5, 0.0, 0.1012, -0.9946, nan], [-0.977, -0.4338, -0.901, -0.866, -0.5, 0.0, -0.1012, -0.9946, nan], [-0.0975, -0.975, -0.2225, -0.866, -0.5, 0.0, -0.2993, -0.954, nan], [0.531, -0.7817, 0.6235, -0.866, -0.5, 0.0, -0.4854, -0.8745, nan], [-1.103, 0.0, 1.0, -0.866, -0.5, 0.0, -0.6514, -0.759, nan], [-0.7256, 0.7817, 0.6235, -0.866, -0.5, 0.0, -0.791, -0.6123, nan], [-0.4744, 0.975, -0.2225, -0.866, -0.5, 0.0, -0.898, -0.4404, nan], [-0.0975, 0.4338, -0.901, -0.866, -0.5, 0.0, -0.9683, -0.2507, nan], [0.1538, -0.4338, -0.901, -0.866, -0.5, 0.0, -0.9985, -0.05066, nan], [0.531, -0.975, -0.2225, -0.866, -0.5, 0.0, -0.9883, 0.1514, nan], [0.9077, -0.7817, 0.6235, -0.866, -0.5, 0.0, -0.938, 0.3474, nan], [-1.605, 0.0, 1.0, -0.866, -0.5, 0.0, -0.8486, 0.529, nan], [-0.6, 0.7817, 0.6235, -0.866, -0.5, 0.0, -0.7246, 0.689, nan], [-0.4744, 0.975, -0.2225, -0.866, -0.5, 0.0, -0.5713, 0.821, nan], [-0.3489, 0.4338, -0.901, -0.866, -0.5, 0.0, -0.3943, 0.919, nan], [0.531, -0.4338, -0.901, -0.866, -0.5, 0.0, -0.2013, 0.9795, nan], [-0.7256, -0.975, -0.2225, -0.866, -0.5, 0.0, -0.0, 1.0, nan], [0.1538, -0.7817, 0.6235, -1.0, -0.0, 0.0, 0.2013, 0.9795, nan], [-1.3545, 0.0, 1.0, -1.0, -0.0, 0.0, 0.3943, 0.919, nan], [-0.4744, 0.7817, 0.6235, -1.0, -0.0, 0.0, 0.5713, 0.821, nan], [-0.977, 0.975, -0.2225, -1.0, -0.0, 0.0, 0.7246, 0.689, nan], [0.531, 0.4338, -0.901, -1.0, -0.0, 0.0, 0.8486, 0.529, nan], [-0.7256, -0.4338, -0.901, -1.0, -0.0, 0.0, 0.938, 0.3474, nan], [-0.977, -0.975, -0.2225, -1.0, -0.0, 0.0, 0.9883, 0.1514, nan], [0.02821, -0.7817, 0.6235, -1.0, -0.0, 0.0, 0.9985, -0.05066, nan], [-0.7256, 0.0, 1.0, -1.0, -0.0, 0.0, 0.9683, -0.2507, nan], [-0.6, 0.7817, 0.6235, -1.0, -0.0, 0.0, 0.898, -0.4404, nan], [-1.229, 0.975, -0.2225, -1.0, -0.0, 0.0, 0.791, -0.6123, nan], [-1.229, 0.4338, -0.901, -1.0, -0.0, 0.0, 0.6514, -0.759, nan], [-0.0975, -0.4338, -0.901, -1.0, -0.0, 0.0, 0.4854, -0.8745, nan], [-1.605, -0.975, -0.2225, -1.0, -0.0, 0.0, 0.2993, -0.954, nan], [-0.3489, -0.7817, 0.6235, -1.0, -0.0, 0.0, 0.1012, -0.9946, nan], [-1.856, 0.0, 1.0, -1.0, -0.0, 0.0, -0.1012, -0.9946, nan], [-1.103, 0.7817, 0.6235, -1.0, -0.0, 0.0, -0.2993, -0.954, nan], [-0.977, 0.975, -0.2225, -1.0, -0.0, 0.0, -0.4854, -0.8745, nan], [-0.3489, 0.4338, -0.901, -1.0, -0.0, 0.0, -0.6514, -0.759, nan], [-0.6, -0.4338, -0.901, -1.0, -0.0, 0.0, -0.791, -0.6123, nan], [1.536, -0.975, -0.2225, -1.0, -0.0, 0.0, -0.898, -0.4404, nan], [0.1538, -0.7817, 0.6235, -1.0, -0.0, 0.0, -0.9683, -0.2507, nan], [0.1538, 0.0, 1.0, -1.0, -0.0, 0.0, -0.9985, -0.05066, nan], [-0.0975, 0.7817, 0.6235, -1.0, -0.0, 0.0, -0.9883, 0.1514, nan], [-0.7256, 0.975, -0.2225, -1.0, -0.0, 0.0, -0.938, 0.3474, nan], [-0.2231, 0.4338, -0.901, -1.0, -0.0, 0.0, -0.8486, 0.529, nan], [-0.2231, -0.4338, -0.901, -1.0, -0.0, 0.0, -0.7246, 0.689, nan], [0.1538, -0.975, -0.2225, -1.0, -0.0, 0.0, -0.5713, 0.821, nan], [0.02821, -0.7817, 0.6235, -1.0, -0.0, 0.0, -0.3943, 0.919, nan], [-1.731, 0.0, 1.0, -1.0, -0.0, 0.0, -0.2013, 0.9795, nan]]   \n",
      "4          [[-0.4744, 0.4338, -0.901, -0.5, -0.866, 0.0, 0.7246, 0.689, nan], [0.02821, -0.4338, -0.901, -0.5, -0.866, 0.0, 0.8486, 0.529, nan], [0.9077, -0.975, -0.2225, -0.5, -0.866, 0.0, 0.938, 0.3474, nan], [0.2795, -0.7817, 0.6235, -0.5, -0.866, 0.0, 0.9883, 0.1514, nan], [-0.4744, 0.0, 1.0, -0.5, -0.866, 0.0, 0.9985, -0.05066, nan], [-0.3489, 0.7817, 0.6235, -0.5, -0.866, 0.0, 0.9683, -0.2507, nan], [-0.7256, 0.975, -0.2225, -0.5, -0.866, 0.0, 0.898, -0.4404, nan], [-0.0975, 0.4338, -0.901, -0.5, -0.866, 0.0, 0.791, -0.6123, nan], [-0.8516, -0.4338, -0.901, -0.5, -0.866, 0.0, 0.6514, -0.759, nan], [1.033, -0.975, -0.2225, -0.5, -0.866, 0.0, 0.4854, -0.8745, nan], [1.033, -0.7817, 0.6235, -0.5, -0.866, 0.0, 0.2993, -0.954, nan], [-0.3489, 0.0, 1.0, -0.5, -0.866, 0.0, 0.1012, -0.9946, nan], [-0.2231, 0.7817, 0.6235, -0.5, -0.866, 0.0, -0.1012, -0.9946, nan], [0.782, 0.975, -0.2225, -0.5, -0.866, 0.0, -0.2993, -0.954, nan], [0.531, 0.4338, -0.901, -0.5, -0.866, 0.0, -0.4854, -0.8745, nan], [1.159, -0.4338, -0.901, -0.5, -0.866, 0.0, -0.6514, -0.759, nan], [1.033, -0.975, -0.2225, -0.5, -0.866, 0.0, -0.791, -0.6123, nan], [0.531, -0.7817, 0.6235, -0.5, -0.866, 0.0, -0.898, -0.4404, nan], [-0.4744, 0.0, 1.0, -0.5, -0.866, 0.0, -0.9683, -0.2507, nan], [0.02821, 0.7817, 0.6235, -0.5, -0.866, 0.0, -0.9985, -0.05066, nan], [-0.4744, 0.975, -0.2225, -0.5, -0.866, 0.0, -0.9883, 0.1514, nan], [-0.3489, 0.4338, -0.901, -0.5, -0.866, 0.0, -0.938, 0.3474, nan], [0.6562, -0.4338, -0.901, -0.5, -0.866, 0.0, -0.8486, 0.529, nan], [-0.2231, -0.975, -0.2225, -0.5, -0.866, 0.0, -0.7246, 0.689, nan], [0.2795, -0.7817, 0.6235, -0.5, -0.866, 0.0, -0.5713, 0.821, nan], [-0.4744, 0.0, 1.0, -0.5, -0.866, 0.0, -0.3943, 0.919, nan], [-1.4795, 0.7817, 0.6235, -0.5, -0.866, 0.0, -0.2013, 0.9795, nan], [0.4053, 0.975, -0.2225, -0.5, -0.866, 0.0, -0.0, 1.0, nan], [0.2795, 0.4338, -0.901, -0.866, -0.5, 0.0, 0.2013, 0.9795, nan], [-0.0975, -0.4338, -0.901, -0.866, -0.5, 0.0, 0.3943, 0.919, nan], [-0.4744, -0.975, -0.2225, -0.866, -0.5, 0.0, 0.5713, 0.821, nan], [0.2795, -0.7817, 0.6235, -0.866, -0.5, 0.0, 0.7246, 0.689, nan], [0.2795, 0.0, 1.0, -0.866, -0.5, 0.0, 0.8486, 0.529, nan], [-1.4795, 0.7817, 0.6235, -0.866, -0.5, 0.0, 0.938, 0.3474, nan], [-0.2231, 0.975, -0.2225, -0.866, -0.5, 0.0, 0.9883, 0.1514, nan], [-0.977, 0.4338, -0.901, -0.866, -0.5, 0.0, 0.9985, -0.05066, nan], [-0.4744, -0.4338, -0.901, -0.866, -0.5, 0.0, 0.9683, -0.2507, nan], [0.02821, -0.975, -0.2225, -0.866, -0.5, 0.0, 0.898, -0.4404, nan], [-0.8516, -0.7817, 0.6235, -0.866, -0.5, 0.0, 0.791, -0.6123, nan], [-1.103, 0.0, 1.0, -0.866, -0.5, 0.0, 0.6514, -0.759, nan], [0.02821, 0.7817, 0.6235, -0.866, -0.5, 0.0, 0.4854, -0.8745, nan], [1.033, 0.975, -0.2225, -0.866, -0.5, 0.0, 0.2993, -0.954, nan], [-0.4744, 0.4338, -0.901, -0.866, -0.5, 0.0, 0.1012, -0.9946, nan], [-0.977, -0.4338, -0.901, -0.866, -0.5, 0.0, -0.1012, -0.9946, nan], [-0.0975, -0.975, -0.2225, -0.866, -0.5, 0.0, -0.2993, -0.954, nan], [0.531, -0.7817, 0.6235, -0.866, -0.5, 0.0, -0.4854, -0.8745, nan], [-1.103, 0.0, 1.0, -0.866, -0.5, 0.0, -0.6514, -0.759, nan], [-0.7256, 0.7817, 0.6235, -0.866, -0.5, 0.0, -0.791, -0.6123, nan], [-0.4744, 0.975, -0.2225, -0.866, -0.5, 0.0, -0.898, -0.4404, nan], [-0.0975, 0.4338, -0.901, -0.866, -0.5, 0.0, -0.9683, -0.2507, nan], [0.1538, -0.4338, -0.901, -0.866, -0.5, 0.0, -0.9985, -0.05066, nan], [0.531, -0.975, -0.2225, -0.866, -0.5, 0.0, -0.9883, 0.1514, nan], [0.9077, -0.7817, 0.6235, -0.866, -0.5, 0.0, -0.938, 0.3474, nan], [-1.605, 0.0, 1.0, -0.866, -0.5, 0.0, -0.8486, 0.529, nan], [-0.6, 0.7817, 0.6235, -0.866, -0.5, 0.0, -0.7246, 0.689, nan], [-0.4744, 0.975, -0.2225, -0.866, -0.5, 0.0, -0.5713, 0.821, nan], [-0.3489, 0.4338, -0.901, -0.866, -0.5, 0.0, -0.3943, 0.919, nan], [0.531, -0.4338, -0.901, -0.866, -0.5, 0.0, -0.2013, 0.9795, nan], [-0.7256, -0.975, -0.2225, -0.866, -0.5, 0.0, -0.0, 1.0, nan], [0.1538, -0.7817, 0.6235, -1.0, -0.0, 0.0, 0.2013, 0.9795, nan], [-1.3545, 0.0, 1.0, -1.0, -0.0, 0.0, 0.3943, 0.919, nan], [-0.4744, 0.7817, 0.6235, -1.0, -0.0, 0.0, 0.5713, 0.821, nan], [-0.977, 0.975, -0.2225, -1.0, -0.0, 0.0, 0.7246, 0.689, nan], [0.531, 0.4338, -0.901, -1.0, -0.0, 0.0, 0.8486, 0.529, nan], [-0.7256, -0.4338, -0.901, -1.0, -0.0, 0.0, 0.938, 0.3474, nan], [-0.977, -0.975, -0.2225, -1.0, -0.0, 0.0, 0.9883, 0.1514, nan], [0.02821, -0.7817, 0.6235, -1.0, -0.0, 0.0, 0.9985, -0.05066, nan], [-0.7256, 0.0, 1.0, -1.0, -0.0, 0.0, 0.9683, -0.2507, nan], [-0.6, 0.7817, 0.6235, -1.0, -0.0, 0.0, 0.898, -0.4404, nan], [-1.229, 0.975, -0.2225, -1.0, -0.0, 0.0, 0.791, -0.6123, nan], [-1.229, 0.4338, -0.901, -1.0, -0.0, 0.0, 0.6514, -0.759, nan], [-0.0975, -0.4338, -0.901, -1.0, -0.0, 0.0, 0.4854, -0.8745, nan], [-1.605, -0.975, -0.2225, -1.0, -0.0, 0.0, 0.2993, -0.954, nan], [-0.3489, -0.7817, 0.6235, -1.0, -0.0, 0.0, 0.1012, -0.9946, nan], [-1.856, 0.0, 1.0, -1.0, -0.0, 0.0, -0.1012, -0.9946, nan], [-1.103, 0.7817, 0.6235, -1.0, -0.0, 0.0, -0.2993, -0.954, nan], [-0.977, 0.975, -0.2225, -1.0, -0.0, 0.0, -0.4854, -0.8745, nan], [-0.3489, 0.4338, -0.901, -1.0, -0.0, 0.0, -0.6514, -0.759, nan], [-0.6, -0.4338, -0.901, -1.0, -0.0, 0.0, -0.791, -0.6123, nan], [1.536, -0.975, -0.2225, -1.0, -0.0, 0.0, -0.898, -0.4404, nan], [0.1538, -0.7817, 0.6235, -1.0, -0.0, 0.0, -0.9683, -0.2507, nan], [0.1538, 0.0, 1.0, -1.0, -0.0, 0.0, -0.9985, -0.05066, nan], [-0.0975, 0.7817, 0.6235, -1.0, -0.0, 0.0, -0.9883, 0.1514, nan], [-0.7256, 0.975, -0.2225, -1.0, -0.0, 0.0, -0.938, 0.3474, nan], [-0.2231, 0.4338, -0.901, -1.0, -0.0, 0.0, -0.8486, 0.529, nan], [-0.2231, -0.4338, -0.901, -1.0, -0.0, 0.0, -0.7246, 0.689, nan], [0.1538, -0.975, -0.2225, -1.0, -0.0, 0.0, -0.5713, 0.821, nan], [0.02821, -0.7817, 0.6235, -1.0, -0.0, 0.0, -0.3943, 0.919, nan], [-1.731, 0.0, 1.0, -1.0, -0.0, 0.0, -0.2013, 0.9795, nan], [-1.103, 0.7817, 0.6235, -0.866, 0.5, 0.0, 0.2013, 0.9795, nan]]   \n",
      "\n",
      "        date  item  store  yearly_corr  \n",
      "0 2013-06-30     1     10      -1.1514  \n",
      "1 2013-07-01     1     10      -1.1514  \n",
      "2 2013-07-02     1     10      -1.1514  \n",
      "3 2013-07-03     1     10      -1.1514  \n",
      "4 2013-07-04     1     10      -1.1514  \n"
     ],
     "name": "stdout"
    }
   ]
  },
  {
   "cell_type": "code",
   "metadata": {
    "id": "sCKKhziMGkQq",
    "colab_type": "code",
    "colab": {},
    "executionInfo": {
     "status": "ok",
     "timestamp": 1594616746223,
     "user_tz": 420,
     "elapsed": 187413,
     "user": {
      "displayName": "Xin Heng",
      "photoUrl": "https://lh3.googleusercontent.com/a-/AOh14Ghih2qYah2j147oGatNY6HQBB8nFM3Wl0KUFG7X=s64",
      "userId": "10806682243950504635"
     }
    }
   },
   "source": [
    "class StoreItemDataset(Dataset):\n",
    "    def __init__(\n",
    "        self, cat_columns=[], num_columns=[], embed_vector_size=None, decoder_input=True, ohe_cat_columns=False\n",
    "    ):\n",
    "        super().__init__()\n",
    "\n",
    "        self.sequence_data = None\n",
    "        self.cat_columns = cat_columns\n",
    "        self.num_columns = num_columns\n",
    "        self.cat_classes = {}\n",
    "        self.cat_embed_shape = []\n",
    "        self.cat_embed_vector_size = embed_vector_size if embed_vector_size is not None else {}\n",
    "        self.pass_decoder_input = decoder_input\n",
    "        self.ohe_cat_columns = ohe_cat_columns\n",
    "        self.cat_columns_to_decoder = False\n",
    "\n",
    "    def get_embedding_shape(self):\n",
    "        return self.cat_embed_shape\n",
    "\n",
    "    def load_sequence_data(self, data):\n",
    "        self.sequence_data = data\n",
    "\n",
    "    def process_cat_columns(self, column_map=None):\n",
    "        column_map = column_map if column_map is not None else {}\n",
    "        for col in self.cat_columns:\n",
    "            self.sequence_data[col] = self.sequence_data[col].astype(\"category\")\n",
    "            if col in column_map:\n",
    "                self.sequence_data[col] = self.sequence_data[col].cat.set_categories(column_map[col]).fillna(\"#NA#\")\n",
    "            else:\n",
    "                self.sequence_data[col].cat.add_categories(\"#NA#\", inplace=True)\n",
    "            self.cat_embed_shape.append(\n",
    "                (len(self.sequence_data[col].cat.categories), self.cat_embed_vector_size.get(col, 50))\n",
    "            )\n",
    "\n",
    "    def __len__(self):\n",
    "        return len(self.sequence_data)\n",
    "\n",
    "    def __getitem__(self, idx):\n",
    "        row = self.sequence_data.iloc[[idx]]\n",
    "        x_inputs = [torch.tensor(row[\"x_sequence\"].values[0], dtype=torch.float32)]\n",
    "        y = torch.tensor(row[\"y_sequence\"].values[0], dtype=torch.float32)\n",
    "\n",
    "        if self.pass_decoder_input:\n",
    "            decoder_input = torch.tensor(row[\"y_sequence\"].values[0][:, 1:], dtype=torch.float32)\n",
    "\n",
    "        if len(self.num_columns) > 0:\n",
    "            for col in self.num_columns:\n",
    "                num_tensor = torch.tensor([row[col].values[0]], dtype=torch.float32)\n",
    "                x_inputs[0] = torch.cat((x_inputs[0], num_tensor.repeat(x_inputs[0].size(0)).unsqueeze(1)), axis=1)\n",
    "                decoder_input = torch.cat(\n",
    "                    (decoder_input, num_tensor.repeat(decoder_input.size(0)).unsqueeze(1)), axis=1\n",
    "                )\n",
    "\n",
    "        if len(self.cat_columns) > 0:\n",
    "            if self.ohe_cat_columns:\n",
    "                for ci, (num_classes, _) in enumerate(self.cat_embed_shape):\n",
    "                    col_tensor = torch.zeros(num_classes, dtype=torch.float32)\n",
    "                    col_tensor[row[self.cat_columns[ci]].cat.codes.values[0]] = 1.0\n",
    "                    col_tensor_x = col_tensor.repeat(x_inputs[0].size(0), 1)\n",
    "                    x_inputs[0] = torch.cat((x_inputs[0], col_tensor_x), axis=1)\n",
    "                    if self.pass_decoder_input and self.cat_columns_to_decoder:\n",
    "                        col_tensor_y = col_tensor.repeat(decoder_input.size(0), 1)\n",
    "                        decoder_input = torch.cat((decoder_input, col_tensor_y), axis=1)\n",
    "            else:\n",
    "                cat_tensor = torch.tensor([row[col].cat.codes.values[0] for col in self.cat_columns], dtype=torch.long)\n",
    "                x_inputs.append(cat_tensor)\n",
    "\n",
    "        if self.pass_decoder_input:\n",
    "            x_inputs.append(decoder_input)\n",
    "            y = torch.tensor(row[\"y_sequence\"].values[0][:, 0], dtype=torch.float32)\n",
    "\n",
    "        if len(x_inputs) > 1:\n",
    "            return tuple(x_inputs), y\n",
    "        else:\n",
    "            return x_inputs[0], y"
   ],
   "execution_count": 12,
   "outputs": []
  },
  {
   "cell_type": "code",
   "metadata": {
    "id": "xkeqC7W-G2Qf",
    "colab_type": "code",
    "colab": {
     "base_uri": "https://localhost:8080/",
     "height": 66
    },
    "executionInfo": {
     "status": "ok",
     "timestamp": 1594616746224,
     "user_tz": 420,
     "elapsed": 187392,
     "user": {
      "displayName": "Xin Heng",
      "photoUrl": "https://lh3.googleusercontent.com/a-/AOh14Ghih2qYah2j147oGatNY6HQBB8nFM3Wl0KUFG7X=s64",
      "userId": "10806682243950504635"
     }
    },
    "outputId": "bcde5bb6-13e7-4ad1-9dcf-1d4b9cc696e7"
   },
   "source": [
    "\"\"\"\n",
    "Validation scheme\n",
    "Validation Model is trained on 2014 to 2016 data and predict 1st 3 months of 2017 data.\n",
    "\n",
    "The best performing model will be trained on 2014 to 2017 data to predict first 3 months of 2018, without validation\n",
    "In the validation model, sequences of the last 3 months of 2016 shouldn't be included because it contains 2017 values in y\n",
    "\"\"\"\n",
    "\n",
    "test_sequence_data = sequence_data[sequence_data[\"date\"] == \"2018-01-01\"]\n",
    "\n",
    "# data after 10th month will have prediction data in y_sequence\n",
    "if mode == \"test\":\n",
    "    train_sequence_data = sequence_data[\n",
    "        (sequence_data[\"date\"] <= \"2017-10-01\") & ((sequence_data[\"date\"] >= \"2014-01-02\"))\n",
    "    ]\n",
    "    valid_sequence_data = pd.DataFrame()\n",
    "else:\n",
    "    train_sequence_data = sequence_data[\n",
    "        (sequence_data[\"date\"] <= \"2016-10-01\") & (sequence_data[\"date\"] >= \"2014-01-02\")\n",
    "    ]\n",
    "    valid_sequence_data = sequence_data[\n",
    "        (sequence_data[\"date\"] > \"2016-10-01\") & (sequence_data[\"date\"] <= \"2017-01-01\")\n",
    "    ]\n",
    "\n",
    "print(train_sequence_data.shape, valid_sequence_data.shape, test_sequence_data.shape)\n",
    "\n",
    "train_dataset = StoreItemDataset(\n",
    "    cat_columns=[\"store\", \"item\"],\n",
    "    num_columns=[\"yearly_corr\"],\n",
    "    embed_vector_size={\"store\": 4, \"item\": 4},\n",
    "    ohe_cat_columns=True,\n",
    ")\n",
    "valid_dataset = StoreItemDataset(\n",
    "    cat_columns=[\"store\", \"item\"],\n",
    "    num_columns=[\"yearly_corr\"],\n",
    "    embed_vector_size={\"store\": 4, \"item\": 4},\n",
    "    ohe_cat_columns=True,\n",
    ")\n",
    "test_dataset = StoreItemDataset(\n",
    "    cat_columns=[\"store\", \"item\"],\n",
    "    num_columns=[\"yearly_corr\"],\n",
    "    embed_vector_size={\"store\": 4, \"item\": 4},\n",
    "    ohe_cat_columns=True,\n",
    ")\n",
    "\n",
    "train_dataset.load_sequence_data(train_sequence_data)\n",
    "valid_dataset.load_sequence_data(valid_sequence_data)\n",
    "test_dataset.load_sequence_data(test_sequence_data)\n",
    "\n",
    "cat_map = train_dataset.process_cat_columns()\n",
    "if mode == \"valid\":\n",
    "    valid_dataset.process_cat_columns(cat_map)\n",
    "test_dataset.process_cat_columns(cat_map)\n",
    "\n",
    "batch_size = 256\n",
    "\n",
    "train_dataloader = DataLoader(train_dataset, batch_size=batch_size, shuffle=True, drop_last=False)\n",
    "valid_dataloader = DataLoader(valid_dataset, batch_size=batch_size, shuffle=False, drop_last=False)\n",
    "test_dataloader = DataLoader(test_dataset, batch_size=batch_size, shuffle=False, drop_last=False)\n",
    "print(len(train_dataloader), len(valid_dataloader))\n",
    "\n",
    "(X_con, X_dec), y = next(iter(train_dataloader))\n",
    "X_con.shape, y.shape, X_dec.shape"
   ],
   "execution_count": 13,
   "outputs": [
    {
     "output_type": "stream",
     "text": [
      "(684500, 7) (0, 0) (500, 7)\n",
      "2674 0\n"
     ],
     "name": "stdout"
    },
    {
     "output_type": "execute_result",
     "data": {
      "text/plain": [
       "(torch.Size([256, 180, 71]), torch.Size([256, 90]), torch.Size([256, 90, 9]))"
      ]
     },
     "metadata": {
      "tags": []
     },
     "execution_count": 13
    }
   ]
  },
  {
   "cell_type": "code",
   "metadata": {
    "id": "DRx0InBRHHfo",
    "colab_type": "code",
    "colab": {},
    "executionInfo": {
     "status": "ok",
     "timestamp": 1594616746225,
     "user_tz": 420,
     "elapsed": 187390,
     "user": {
      "displayName": "Xin Heng",
      "photoUrl": "https://lh3.googleusercontent.com/a-/AOh14Ghih2qYah2j147oGatNY6HQBB8nFM3Wl0KUFG7X=s64",
      "userId": "10806682243950504635"
     }
    }
   },
   "source": [
    ""
   ],
   "execution_count": 13,
   "outputs": []
  }
 ]
}